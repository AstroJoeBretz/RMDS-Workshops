{
 "cells": [
  {
   "cell_type": "code",
   "execution_count": 1,
   "metadata": {
    "collapsed": true
   },
   "outputs": [],
   "source": [
    "import numpy as np"
   ]
  },
  {
   "cell_type": "code",
   "execution_count": 2,
   "metadata": {
    "collapsed": false
   },
   "outputs": [
    {
     "data": {
      "text/plain": [
       "array([[ 0.023,  0.427,  0.55 ],\n",
       "       [ 0.005,  0.002,  0.993],\n",
       "       [ 0.213,  0.272,  0.515]])"
      ]
     },
     "execution_count": 2,
     "metadata": {},
     "output_type": "execute_result"
    }
   ],
   "source": [
    "mm = np.array([[.023,.427,.55],[.005,.002,.993],[.213,.272,.515]])\n",
    "mm"
   ]
  },
  {
   "cell_type": "code",
   "execution_count": 35,
   "metadata": {
    "collapsed": false
   },
   "outputs": [
    {
     "data": {
      "text/plain": [
       "array([[ 0.13859956,  0.23108892,  0.63031152],\n",
       "       [ 0.13859959,  0.23108891,  0.6303115 ],\n",
       "       [ 0.13859958,  0.23108893,  0.63031148]])"
      ]
     },
     "execution_count": 35,
     "metadata": {},
     "output_type": "execute_result"
    }
   ],
   "source": [
    "mm@mm@mm@mm@mm@mm@mm@mm@mm@mm@mm@mm@mm@mm"
   ]
  },
  {
   "cell_type": "code",
   "execution_count": 32,
   "metadata": {
    "collapsed": false
   },
   "outputs": [
    {
     "data": {
      "text/plain": [
       "array([[ 0.140221  ,  0.23044326,  0.62933575],\n",
       "       [ 0.13853316,  0.23269711,  0.62876973],\n",
       "       [ 0.1382674 ,  0.2306413 ,  0.6310913 ]])"
      ]
     },
     "execution_count": 32,
     "metadata": {},
     "output_type": "execute_result"
    }
   ],
   "source": [
    "mmn = mm;\n",
    "for x in range(0,5-1):\n",
    "    mmn = mm@mmn\n",
    "mmn"
   ]
  },
  {
   "cell_type": "code",
   "execution_count": 33,
   "metadata": {
    "collapsed": false
   },
   "outputs": [
    {
     "data": {
      "text/plain": [
       "array([[ 0.140221  ,  0.23044326,  0.62933575],\n",
       "       [ 0.13853316,  0.23269711,  0.62876973],\n",
       "       [ 0.1382674 ,  0.2306413 ,  0.6310913 ]])"
      ]
     },
     "execution_count": 33,
     "metadata": {},
     "output_type": "execute_result"
    }
   ],
   "source": [
    "np.linalg.matrix_power(mm,5)"
   ]
  },
  {
   "cell_type": "code",
   "execution_count": 34,
   "metadata": {
    "collapsed": true
   },
   "outputs": [],
   "source": [
    "from numpy.linalg import inv"
   ]
  },
  {
   "cell_type": "code",
   "execution_count": null,
   "metadata": {
    "collapsed": true
   },
   "outputs": [],
   "source": []
  },
  {
   "cell_type": "code",
   "execution_count": 87,
   "metadata": {
    "collapsed": false
   },
   "outputs": [
    {
     "data": {
      "text/plain": [
       "array([ 1.00+0.j        , -0.23+0.17504285j, -0.23-0.17504285j])"
      ]
     },
     "execution_count": 87,
     "metadata": {},
     "output_type": "execute_result"
    }
   ],
   "source": [
    "from numpy.linalg import eig\n",
    "evals, evecs = eig(mm)\n",
    "evals"
   ]
  },
  {
   "cell_type": "code",
   "execution_count": 23,
   "metadata": {
    "collapsed": false
   },
   "outputs": [
    {
     "data": {
      "text/plain": [
       "array([[ 0.57735027+0.j        ,  0.70223358+0.j        ,  0.70223358-0.j        ],\n",
       "       [ 0.57735027+0.j        , -0.41151479+0.54545384j,\n",
       "        -0.41151479-0.54545384j],\n",
       "       [ 0.57735027+0.j        , -0.00354233-0.19997786j,\n",
       "        -0.00354233+0.19997786j]])"
      ]
     },
     "execution_count": 23,
     "metadata": {},
     "output_type": "execute_result"
    }
   ],
   "source": [
    "evecs"
   ]
  },
  {
   "cell_type": "code",
   "execution_count": 98,
   "metadata": {
    "collapsed": false
   },
   "outputs": [
    {
     "data": {
      "text/plain": [
       "array([ 0.08394617+0.j,  0.22148386+0.j,  0.69456998+0.j])"
      ]
     },
     "execution_count": 98,
     "metadata": {},
     "output_type": "execute_result"
    }
   ],
   "source": [
    "evecs[0]/np.real(evecs[0,0]+evecs[0,1]+evecs[0,2])@mm"
   ]
  },
  {
   "cell_type": "code",
   "execution_count": 85,
   "metadata": {
    "collapsed": false
   },
   "outputs": [
    {
     "data": {
      "text/plain": [
       "array([ 0.13748,  0.2318 ,  0.63072])"
      ]
     },
     "execution_count": 85,
     "metadata": {},
     "output_type": "execute_result"
    }
   ],
   "source": [
    "site = 0;\n",
    "hits = np.zeros((3));\n",
    "for x in range(0,100000):\n",
    "    site = np.random.choice(np.array([0,1,2]),p=mm[site])\n",
    "    hits[site] += 1\n",
    "hits/100000."
   ]
  },
  {
   "cell_type": "code",
   "execution_count": null,
   "metadata": {
    "collapsed": true
   },
   "outputs": [],
   "source": []
  }
 ],
 "metadata": {
  "kernelspec": {
   "display_name": "Python 3",
   "language": "python",
   "name": "python3"
  },
  "language_info": {
   "codemirror_mode": {
    "name": "ipython",
    "version": 3
   },
   "file_extension": ".py",
   "mimetype": "text/x-python",
   "name": "python",
   "nbconvert_exporter": "python",
   "pygments_lexer": "ipython3",
   "version": "3.6.0"
  }
 },
 "nbformat": 4,
 "nbformat_minor": 2
}
