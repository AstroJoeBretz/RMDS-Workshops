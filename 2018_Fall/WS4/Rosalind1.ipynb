{
 "cells": [
  {
   "cell_type": "code",
   "execution_count": 24,
   "metadata": {
    "collapsed": false
   },
   "outputs": [
    {
     "name": "stdout",
     "output_type": "stream",
     "text": [
      "CTATGCACTTGTCTGCGGCCGAAGACGGTTGGGAGGAAAAGTTAATGCTATTAGACATGGTTCTGATCATGTGAGTACACTTTTCTTACGAAGGGGCGTGGATGCTGTAGAAGTATCAGCCTGTTGCGGGTTTCGGATTTCACCAAATTCGGTTTGTACCTCTGCCACTCACGTTTCGTTGTGACAAAGATAACAATGCACGGCTAAAAGTGCTGCTGAGAGGAGGAAGTTAGTCTCCACACCCCTGGATGGACGAAACTGCAGCCAATGTTACCGAGGTACGGCTAGACCTGGACAGTATGCGTTCCGATTCTCTTCCCCTTCGTAATCTGCATTATAAATGTGTAAGCTTTACTATTTCACTTCCGTCTGAGAGGAGGCCTACTGGTCCCGAGCCGGTGCATGTTTTAGAATGACCACAAGTTAGGCCCTGTATGCTCTCTACAGATGCTAAATTGTATAGCGTCATGTGGCCCGAACTGGCTGCTTAAGTCCGATGGTGCGGCAATCCTAGCGATTGAATTAAAAAGAAAGGACTATCAACTCGTCGAGATTGCAAACATTAGTATATCGTATGTTACCTAGCCGAGTACGGACAATAATACTATATCCGTTTCAATGTAAAGTCCCTCCGGATCAATGTGAATGAACACAGGATCCATTAAGAAGCGTGCCGTAACGCGGGCGCTCCCTAGTTAGTCACATCTACCGGCTACGGATCCGGAGCGCACCCTTTCAAGTTGTTTGGTACATGATCACGGAAAAGGAACCTAGTCTGGGTGAAGGTAGGTCTCTTCCAGGGATTCGGGCGCACAGAAGAGGCAACTTATAACAAGATCACATGTACTAAGCTAGATTGTAGCAGGCATGGACGTGTTCCCATAATCTCCGCAACGCCTTCAGTATTCGGTATCAAAAAGTCATCAGGTCGTT\n",
      "\n"
     ]
    }
   ],
   "source": [
    "dat = open('rosalind_dna.txt','r')\n",
    "daat = dat.read()\n",
    "print(daat)\n",
    "dat.close()"
   ]
  },
  {
   "cell_type": "code",
   "execution_count": 28,
   "metadata": {
    "collapsed": false
   },
   "outputs": [
    {
     "data": {
      "text/plain": [
       "934"
      ]
     },
     "execution_count": 28,
     "metadata": {},
     "output_type": "execute_result"
    }
   ],
   "source": [
    "len(daat)\n",
    "\n",
    "#daat[0];\n",
    "#daat[820];"
   ]
  },
  {
   "cell_type": "code",
   "execution_count": 29,
   "metadata": {
    "collapsed": false
   },
   "outputs": [
    {
     "name": "stdout",
     "output_type": "stream",
     "text": [
      "[246, 210, 230, 247]\n",
      "933\n"
     ]
    }
   ],
   "source": [
    "Ac=0;\n",
    "Cc=0;\n",
    "Gc=0;\n",
    "Tc=0;\n",
    "\n",
    "for n in range(0,933):\n",
    "    if daat[n] == 'A':\n",
    "        Ac += 1;\n",
    "    if daat[n] == 'C':\n",
    "        Cc += 1;\n",
    "    if daat[n] == 'G':\n",
    "        Gc += 1;\n",
    "    if daat[n] == 'T':\n",
    "        Tc += 1;\n",
    "\n",
    "print([Ac,Cc,Gc,Tc])\n",
    "print(Ac+Cc+Gc+Tc)"
   ]
  },
  {
   "cell_type": "code",
   "execution_count": null,
   "metadata": {
    "collapsed": true
   },
   "outputs": [],
   "source": [
    "%matplotlib inline\n",
    "import seaborn as sns\n",
    "sns.set()\n",
    "sns.plot()"
   ]
  }
 ],
 "metadata": {
  "kernelspec": {
   "display_name": "Python 3",
   "language": "python",
   "name": "python3"
  },
  "language_info": {
   "codemirror_mode": {
    "name": "ipython",
    "version": 3
   },
   "file_extension": ".py",
   "mimetype": "text/x-python",
   "name": "python",
   "nbconvert_exporter": "python",
   "pygments_lexer": "ipython3",
   "version": "3.6.0"
  }
 },
 "nbformat": 4,
 "nbformat_minor": 2
}
