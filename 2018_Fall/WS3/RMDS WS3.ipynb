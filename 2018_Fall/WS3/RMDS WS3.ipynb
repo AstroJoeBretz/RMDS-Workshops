{
 "cells": [
  {
   "cell_type": "code",
   "execution_count": 159,
   "metadata": {
    "collapsed": false
   },
   "outputs": [
    {
     "name": "stdout",
     "output_type": "stream",
     "text": [
      "213\n",
      "[2, 4, 4, 6, 5, 1, 7, 8, 4, 1, 5, 3, 3, 11, 5, 1, 6, 1, 7, 1, 3, 6, 7, 5, 3, 8, 8, 3, 1, 8, 5, 1, 5, 8, 5, 7, 5, 8, 2, 4, 5, 9, 4, 4, 4]\n"
     ]
    }
   ],
   "source": [
    "# Read in data\n",
    "data = open('rmdsdata.csv','r')\n",
    "\n",
    "# Create list of perfect squares\n",
    "ps = []\n",
    "for x in range(46):\n",
    "    ps.append(x*x)\n",
    "\n",
    "# Create empty count list\n",
    "ln = len(ps)\n",
    "counts = [0]*ln\n",
    "\n",
    "# Record counts of each perfect square\n",
    "for line in data:\n",
    "    counts[ps.index(int(line)) if int(line) in ps else 0] += 1\n",
    "\n",
    "# Calculate and print total counts\n",
    "print(10003-counts[0])\n",
    "\n",
    "# Delete count of non-perfect squares\n",
    "del counts[0]\n",
    "\n",
    "# Print final counts list\n",
    "print(counts)"
   ]
  },
  {
   "cell_type": "code",
   "execution_count": 156,
   "metadata": {
    "collapsed": false
   },
   "outputs": [],
   "source": [
    "# Clear countsfile\n",
    "countsfile = open('countsfile.txt','w')\n",
    "countsfile.write('')\n",
    "countsfile.close()"
   ]
  },
  {
   "cell_type": "code",
   "execution_count": 157,
   "metadata": {
    "collapsed": false
   },
   "outputs": [],
   "source": [
    "# Write to countsfile\n",
    "countsfile = open('countsfile.txt','a')\n",
    "\n",
    "for i in range(45):\n",
    "    countsfile.write(str(ps[i+1]) + ' occurs ' + str(counts[i]) + ' times\\n')\n",
    "\n",
    "\n",
    "countsfile.close()"
   ]
  },
  {
   "cell_type": "code",
   "execution_count": 158,
   "metadata": {
    "collapsed": false
   },
   "outputs": [
    {
     "name": "stdout",
     "output_type": "stream",
     "text": [
      "1 occurs 2 times\n",
      "4 occurs 4 times\n",
      "9 occurs 4 times\n",
      "16 occurs 6 times\n",
      "25 occurs 5 times\n",
      "36 occurs 1 times\n",
      "49 occurs 7 times\n",
      "64 occurs 8 times\n",
      "81 occurs 4 times\n",
      "100 occurs 1 times\n",
      "121 occurs 5 times\n",
      "144 occurs 3 times\n",
      "169 occurs 3 times\n",
      "196 occurs 11 times\n",
      "225 occurs 5 times\n",
      "256 occurs 1 times\n",
      "289 occurs 6 times\n",
      "324 occurs 1 times\n",
      "361 occurs 7 times\n",
      "400 occurs 1 times\n",
      "441 occurs 3 times\n",
      "484 occurs 6 times\n",
      "529 occurs 7 times\n",
      "576 occurs 5 times\n",
      "625 occurs 3 times\n",
      "676 occurs 8 times\n",
      "729 occurs 8 times\n",
      "784 occurs 3 times\n",
      "841 occurs 1 times\n",
      "900 occurs 8 times\n",
      "961 occurs 5 times\n",
      "1024 occurs 1 times\n",
      "1089 occurs 5 times\n",
      "1156 occurs 8 times\n",
      "1225 occurs 5 times\n",
      "1296 occurs 7 times\n",
      "1369 occurs 5 times\n",
      "1444 occurs 8 times\n",
      "1521 occurs 2 times\n",
      "1600 occurs 4 times\n",
      "1681 occurs 5 times\n",
      "1764 occurs 9 times\n",
      "1849 occurs 4 times\n",
      "1936 occurs 4 times\n",
      "2025 occurs 4 times\n",
      "\n"
     ]
    }
   ],
   "source": [
    "# Read countsfile\n",
    "countsfile.close()\n",
    "countsfile = open('countsfile.txt','r')\n",
    "print(countsfile.read())\n",
    "countsfile.close()"
   ]
  }
 ],
 "metadata": {
  "kernelspec": {
   "display_name": "Python 3",
   "language": "python",
   "name": "python3"
  },
  "language_info": {
   "codemirror_mode": {
    "name": "ipython",
    "version": 3
   },
   "file_extension": ".py",
   "mimetype": "text/x-python",
   "name": "python",
   "nbconvert_exporter": "python",
   "pygments_lexer": "ipython3",
   "version": "3.6.0"
  }
 },
 "nbformat": 4,
 "nbformat_minor": 2
}
