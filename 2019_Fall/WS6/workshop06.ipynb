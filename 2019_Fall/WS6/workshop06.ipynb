{
 "cells": [
  {
   "cell_type": "markdown",
   "metadata": {},
   "source": [
    "# Numpy\n",
    "\n",
    "Numpy is a numerical library in python\n",
    "Check out all of the [numpy routines](https://numpy.org/devdocs/reference/routines.html) to get a good overview of what numpy can do.\n",
    "\n",
    "Here's a short summary of some of its functionality:\n",
    "\n",
    "### Array Creation\n",
    "arange, array, copy, empty, empty_like, eye, fromfile, fromfunction, identity, linspace, logspace, mgrid, ogrid, ones, ones_like, r, zeros, zeros_like\n",
    "\n",
    "### Conversions\n",
    "ndarray.astype, atleast_1d, atleast_2d, atleast_3d, mat\n",
    "\n",
    "### Manipulations\n",
    "array_split, column_stack, concatenate, diagonal, dsplit, dstack, hsplit, hstack, ndarray.item, newaxis, ravel, repeat, reshape, resize, squeeze, swapaxes, take, transpose, vsplit, vstack\n",
    "\n",
    "### Questions\n",
    "all, any, nonzero, where\n",
    "\n",
    "### Ordering\n",
    "argmax, argmin, argsort, max, min, ptp, searchsorted, sort\n",
    "\n",
    "### Operations\n",
    "choose, compress, cumprod, cumsum, inner, ndarray.fill, imag, prod, put, putmask, real, sum\n",
    "\n",
    "### Basic Statistics\n",
    "cov, mean, std, var\n",
    "\n",
    "### Basic Linear Algebra\n",
    "cross, dot, outer, linalg.svd, vdot\n",
    "\n",
    "\n",
    "Let's showcase some functionality of numpy.  Let's begin by reading in some packages and printing some information about numpy's configuration.\n",
    "\n"
   ]
  },
  {
   "cell_type": "code",
   "execution_count": 1,
   "metadata": {},
   "outputs": [
    {
     "name": "stdout",
     "output_type": "stream",
     "text": [
      "1.16.5\n",
      "mkl_info:\n",
      "    libraries = ['mkl_rt']\n",
      "    library_dirs = ['C:/Users/joebr/Anaconda3\\\\Library\\\\lib']\n",
      "    define_macros = [('SCIPY_MKL_H', None), ('HAVE_CBLAS', None)]\n",
      "    include_dirs = ['C:\\\\Program Files (x86)\\\\IntelSWTools\\\\compilers_and_libraries_2019.0.117\\\\windows\\\\mkl', 'C:\\\\Program Files (x86)\\\\IntelSWTools\\\\compilers_and_libraries_2019.0.117\\\\windows\\\\mkl\\\\include', 'C:\\\\Program Files (x86)\\\\IntelSWTools\\\\compilers_and_libraries_2019.0.117\\\\windows\\\\mkl\\\\lib', 'C:/Users/joebr/Anaconda3\\\\Library\\\\include']\n",
      "blas_mkl_info:\n",
      "    libraries = ['mkl_rt']\n",
      "    library_dirs = ['C:/Users/joebr/Anaconda3\\\\Library\\\\lib']\n",
      "    define_macros = [('SCIPY_MKL_H', None), ('HAVE_CBLAS', None)]\n",
      "    include_dirs = ['C:\\\\Program Files (x86)\\\\IntelSWTools\\\\compilers_and_libraries_2019.0.117\\\\windows\\\\mkl', 'C:\\\\Program Files (x86)\\\\IntelSWTools\\\\compilers_and_libraries_2019.0.117\\\\windows\\\\mkl\\\\include', 'C:\\\\Program Files (x86)\\\\IntelSWTools\\\\compilers_and_libraries_2019.0.117\\\\windows\\\\mkl\\\\lib', 'C:/Users/joebr/Anaconda3\\\\Library\\\\include']\n",
      "blas_opt_info:\n",
      "    libraries = ['mkl_rt']\n",
      "    library_dirs = ['C:/Users/joebr/Anaconda3\\\\Library\\\\lib']\n",
      "    define_macros = [('SCIPY_MKL_H', None), ('HAVE_CBLAS', None)]\n",
      "    include_dirs = ['C:\\\\Program Files (x86)\\\\IntelSWTools\\\\compilers_and_libraries_2019.0.117\\\\windows\\\\mkl', 'C:\\\\Program Files (x86)\\\\IntelSWTools\\\\compilers_and_libraries_2019.0.117\\\\windows\\\\mkl\\\\include', 'C:\\\\Program Files (x86)\\\\IntelSWTools\\\\compilers_and_libraries_2019.0.117\\\\windows\\\\mkl\\\\lib', 'C:/Users/joebr/Anaconda3\\\\Library\\\\include']\n",
      "lapack_mkl_info:\n",
      "    libraries = ['mkl_rt']\n",
      "    library_dirs = ['C:/Users/joebr/Anaconda3\\\\Library\\\\lib']\n",
      "    define_macros = [('SCIPY_MKL_H', None), ('HAVE_CBLAS', None)]\n",
      "    include_dirs = ['C:\\\\Program Files (x86)\\\\IntelSWTools\\\\compilers_and_libraries_2019.0.117\\\\windows\\\\mkl', 'C:\\\\Program Files (x86)\\\\IntelSWTools\\\\compilers_and_libraries_2019.0.117\\\\windows\\\\mkl\\\\include', 'C:\\\\Program Files (x86)\\\\IntelSWTools\\\\compilers_and_libraries_2019.0.117\\\\windows\\\\mkl\\\\lib', 'C:/Users/joebr/Anaconda3\\\\Library\\\\include']\n",
      "lapack_opt_info:\n",
      "    libraries = ['mkl_rt']\n",
      "    library_dirs = ['C:/Users/joebr/Anaconda3\\\\Library\\\\lib']\n",
      "    define_macros = [('SCIPY_MKL_H', None), ('HAVE_CBLAS', None)]\n",
      "    include_dirs = ['C:\\\\Program Files (x86)\\\\IntelSWTools\\\\compilers_and_libraries_2019.0.117\\\\windows\\\\mkl', 'C:\\\\Program Files (x86)\\\\IntelSWTools\\\\compilers_and_libraries_2019.0.117\\\\windows\\\\mkl\\\\include', 'C:\\\\Program Files (x86)\\\\IntelSWTools\\\\compilers_and_libraries_2019.0.117\\\\windows\\\\mkl\\\\lib', 'C:/Users/joebr/Anaconda3\\\\Library\\\\include']\n"
     ]
    }
   ],
   "source": [
    "# Import packages\n",
    "import io\n",
    "import numpy as np\n",
    "import matplotlib.pyplot as plt\n",
    "\n",
    "# Print some info about numpy\n",
    "print(np.__version__)\n",
    "np.show_config()\n"
   ]
  },
  {
   "cell_type": "markdown",
   "metadata": {},
   "source": [
    "It's important to know that the fundamental data structure in numpy is the multidimensional array (ndarray type in numpy). Let's look at a number of ways to instantiate (create an instance of) an ndarray type object."
   ]
  },
  {
   "cell_type": "markdown",
   "metadata": {},
   "source": [
    "# Creating Arrays\n",
    "[Array Creation Routines](https://numpy.org/devdocs/reference/routines.array-creation.html)"
   ]
  },
  {
   "cell_type": "code",
   "execution_count": 2,
   "metadata": {},
   "outputs": [
    {
     "name": "stdout",
     "output_type": "stream",
     "text": [
      "[[2.22519779e-307 1.00132992e-307 2.89179029e+222]\n",
      " [2.14095861e-308 1.03301566e-311 1.03301567e-311]]\n"
     ]
    }
   ],
   "source": [
    "# instantiate a multidimensional array (ndarray) of shape (i, j, k, l, ...)\n",
    "x = np.ndarray((2, 3))\n",
    "print(x)"
   ]
  },
  {
   "cell_type": "code",
   "execution_count": 3,
   "metadata": {},
   "outputs": [
    {
     "name": "stdout",
     "output_type": "stream",
     "text": [
      "[[[6.23042070e-307 4.67296746e-307 1.69121096e-306 9.34606395e-307]\n",
      "  [1.89146896e-307 1.37961302e-306 1.05699242e-307 8.01097889e-307]\n",
      "  [1.78020169e-306 7.56601165e-307 1.02359984e-306 1.29060531e-306]]\n",
      "\n",
      " [[1.24611741e-306 1.11261027e-306 7.56591659e-307 1.33511290e-306]\n",
      "  [6.89804133e-307 1.11261162e-306 8.34443015e-308 1.22383391e-307]\n",
      "  [1.33511562e-306 8.90103560e-307 1.42410974e-306 8.45528067e-307]]]\n"
     ]
    }
   ],
   "source": [
    "x = np.ndarray((2, 3, 4))\n",
    "print(x)"
   ]
  },
  {
   "cell_type": "code",
   "execution_count": 4,
   "metadata": {},
   "outputs": [
    {
     "name": "stdout",
     "output_type": "stream",
     "text": [
      "[[[[7.09933835e-315 7.09933835e-315 7.09933835e-315 7.09933835e-315\n",
      "    7.09933835e-315]\n",
      "   [7.09933835e-315 7.09933835e-315 7.09933835e-315 7.09933835e-315\n",
      "    7.09933835e-315]\n",
      "   [7.09933835e-315 7.09933835e-315 7.09933835e-315 7.09933835e-315\n",
      "    7.09933835e-315]\n",
      "   [7.09933835e-315 7.09933835e-315 7.09933835e-315 7.09933835e-315\n",
      "    7.09933835e-315]]\n",
      "\n",
      "  [[7.09933835e-315 7.09933835e-315 7.09933835e-315 7.09933835e-315\n",
      "    7.09933835e-315]\n",
      "   [7.09933835e-315 7.09933835e-315 7.09933835e-315 7.09933835e-315\n",
      "    7.09933835e-315]\n",
      "   [7.09933835e-315 7.09933851e-315 7.09933851e-315 7.09933851e-315\n",
      "    7.09933851e-315]\n",
      "   [7.09933851e-315 7.09933851e-315 7.09933851e-315 7.09933851e-315\n",
      "    7.09933851e-315]]\n",
      "\n",
      "  [[7.09933851e-315 7.09933851e-315 7.09933851e-315 7.09933851e-315\n",
      "    7.09933851e-315]\n",
      "   [7.09933851e-315 7.09933851e-315 7.09933851e-315 7.09933851e-315\n",
      "    7.09933851e-315]\n",
      "   [7.09933851e-315 7.09933851e-315 7.09933851e-315 7.09933851e-315\n",
      "    7.09933851e-315]\n",
      "   [7.09933851e-315 7.09933851e-315 7.09933851e-315 7.09933851e-315\n",
      "    7.09933851e-315]]]\n",
      "\n",
      "\n",
      " [[[7.09933867e-315 7.09933867e-315 7.09933867e-315 7.09933867e-315\n",
      "    7.09933867e-315]\n",
      "   [7.09933867e-315 7.09933867e-315 7.09933867e-315 7.09933867e-315\n",
      "    7.09933867e-315]\n",
      "   [7.09933867e-315 7.09933867e-315 7.09933867e-315 7.09933867e-315\n",
      "    7.09933867e-315]\n",
      "   [7.09933867e-315 7.09933867e-315 7.09933867e-315 7.09933867e-315\n",
      "    7.09933867e-315]]\n",
      "\n",
      "  [[7.09933867e-315 7.09933867e-315 7.09933867e-315 7.09933867e-315\n",
      "    7.09933867e-315]\n",
      "   [7.09933867e-315 7.09933867e-315 7.09933867e-315 7.09933867e-315\n",
      "    7.09933867e-315]\n",
      "   [7.09933867e-315 7.09933883e-315 7.09933883e-315 7.09933883e-315\n",
      "    7.09933883e-315]\n",
      "   [7.09933883e-315 7.09933883e-315 7.09933883e-315 7.09933883e-315\n",
      "    7.09933883e-315]]\n",
      "\n",
      "  [[7.09933883e-315 7.09933883e-315 7.09933883e-315 7.09933883e-315\n",
      "    7.09933883e-315]\n",
      "   [7.09933883e-315 7.09933883e-315 7.09933883e-315 7.09933883e-315\n",
      "    7.09933883e-315]\n",
      "   [7.09933883e-315 7.09933883e-315 7.09933883e-315 7.09933883e-315\n",
      "    7.09933883e-315]\n",
      "   [7.09933883e-315 7.09933883e-315 7.09933883e-315 7.09933883e-315\n",
      "    7.09933883e-315]]]]\n"
     ]
    }
   ],
   "source": [
    "x = np.ndarray((2, 3, 4, 5))\n",
    "print(x)"
   ]
  },
  {
   "cell_type": "code",
   "execution_count": 5,
   "metadata": {},
   "outputs": [
    {
     "name": "stdout",
     "output_type": "stream",
     "text": [
      "[[2.22519779e-307 1.00132992e-307 2.89179029e+222]\n",
      " [2.14095861e-308 1.03301566e-311 1.03301567e-311]]\n"
     ]
    }
   ],
   "source": [
    "# instantiate a multidimensional array (ndarray) of shape (i, j, k, l, ...)\n",
    "x = np.empty((2, 3))\n",
    "print(x)"
   ]
  },
  {
   "cell_type": "code",
   "execution_count": 6,
   "metadata": {},
   "outputs": [
    {
     "name": "stdout",
     "output_type": "stream",
     "text": [
      "[[0. 0. 0. 0. 0.]\n",
      " [0. 0. 0. 0. 0.]\n",
      " [0. 0. 0. 0. 0.]]\n"
     ]
    }
   ],
   "source": [
    "# Instantiate with zeros\n",
    "x = np.zeros((3, 5))\n",
    "print(x)"
   ]
  },
  {
   "cell_type": "code",
   "execution_count": 7,
   "metadata": {},
   "outputs": [
    {
     "name": "stdout",
     "output_type": "stream",
     "text": [
      "[[1. 1. 1. 1. 1.]\n",
      " [1. 1. 1. 1. 1.]\n",
      " [1. 1. 1. 1. 1.]]\n"
     ]
    }
   ],
   "source": [
    "x = np.ones((3, 5))\n",
    "print(x)"
   ]
  },
  {
   "cell_type": "code",
   "execution_count": 8,
   "metadata": {},
   "outputs": [
    {
     "name": "stdout",
     "output_type": "stream",
     "text": [
      "[[3 3 3 3 3]\n",
      " [3 3 3 3 3]\n",
      " [3 3 3 3 3]]\n"
     ]
    }
   ],
   "source": [
    "x = np.full((3, 5), 3)\n",
    "print(x)"
   ]
  },
  {
   "cell_type": "code",
   "execution_count": 9,
   "metadata": {},
   "outputs": [
    {
     "name": "stdout",
     "output_type": "stream",
     "text": [
      "[[0.87985029 0.89713607 0.1593533  0.72860364 0.82495266]\n",
      " [0.90380631 0.63985561 0.71986496 0.66729833 0.93248303]\n",
      " [0.73607419 0.08500464 0.05955756 0.60560802 0.26076686]]\n"
     ]
    }
   ],
   "source": [
    "# Instantiate with random uniform draws\n",
    "x = np.random.random((3, 5))\n",
    "print(x)"
   ]
  },
  {
   "cell_type": "code",
   "execution_count": 10,
   "metadata": {},
   "outputs": [
    {
     "name": "stdout",
     "output_type": "stream",
     "text": [
      "800000000 bytes\n"
     ]
    }
   ],
   "source": [
    "# Numpy is Fast!!\n",
    "x = np.random.random((10000, 10000))\n",
    "\n",
    "# Print memory usage of this numpy array\n",
    "print(\"%d bytes\" % (x.size * x.itemsize))"
   ]
  },
  {
   "cell_type": "code",
   "execution_count": 11,
   "metadata": {},
   "outputs": [
    {
     "name": "stdout",
     "output_type": "stream",
     "text": [
      "1, 2, 3\n",
      "4, 5, 6\n",
      "[[1. 2. 3.]\n",
      " [4. 5. 6.]]\n"
     ]
    }
   ],
   "source": [
    "# Read in data from a text string or a csv\n",
    "data = u\"1, 2, 3\\n4, 5, 6\"\n",
    "print(data)\n",
    "x = np.genfromtxt(io.StringIO(data), delimiter=\",\")\n",
    "print(x)\n",
    "\n",
    "# or something like:\n",
    "# np.genfromtxt('mydata.csv', delimiter=\",\")\n",
    "\n"
   ]
  },
  {
   "cell_type": "code",
   "execution_count": 12,
   "metadata": {},
   "outputs": [
    {
     "name": "stdout",
     "output_type": "stream",
     "text": [
      "[1 2 3 4 5 6]\n",
      "[[1 2]\n",
      " [3 4]\n",
      " [5 6]]\n"
     ]
    }
   ],
   "source": [
    "# Coerce an object to a numpy array\n",
    "x = np.asarray([1, 2, 3, 4, 5, 6])\n",
    "print(x)\n",
    "\n",
    "# Reshape an array\n",
    "x = x.reshape((3, 2))\n",
    "print(x)"
   ]
  },
  {
   "cell_type": "markdown",
   "metadata": {},
   "source": [
    "# Indexing"
   ]
  },
  {
   "cell_type": "code",
   "execution_count": 13,
   "metadata": {},
   "outputs": [
    {
     "name": "stdout",
     "output_type": "stream",
     "text": [
      "1\n"
     ]
    }
   ],
   "source": [
    "print(x[0,0]) # Extract a single element"
   ]
  },
  {
   "cell_type": "code",
   "execution_count": 14,
   "metadata": {},
   "outputs": [
    {
     "name": "stdout",
     "output_type": "stream",
     "text": [
      "[1 2]\n"
     ]
    }
   ],
   "source": [
    "print(x[0,:]) # Slicing"
   ]
  },
  {
   "cell_type": "code",
   "execution_count": 15,
   "metadata": {},
   "outputs": [
    {
     "name": "stdout",
     "output_type": "stream",
     "text": [
      "[3 4]\n"
     ]
    }
   ],
   "source": [
    "print(x[-2]) # 1st row from the last"
   ]
  },
  {
   "cell_type": "code",
   "execution_count": 19,
   "metadata": {},
   "outputs": [
    {
     "name": "stdout",
     "output_type": "stream",
     "text": [
      "[1 3 5]\n"
     ]
    }
   ],
   "source": [
    "print(x[:,0]) # Print first column of every even row"
   ]
  },
  {
   "cell_type": "markdown",
   "metadata": {},
   "source": [
    "# Some Mathematical Operations\n",
    "[Math routines](https://docs.scipy.org/doc/numpy-1.14.0/reference/routines.math.html)"
   ]
  },
  {
   "cell_type": "code",
   "execution_count": 20,
   "metadata": {},
   "outputs": [
    {
     "name": "stdout",
     "output_type": "stream",
     "text": [
      "21\n"
     ]
    }
   ],
   "source": [
    "x = np.asarray([1, 2, 3, 4, 5, 6])\n",
    "print(x.sum())       # Sum"
   ]
  },
  {
   "cell_type": "code",
   "execution_count": 21,
   "metadata": {},
   "outputs": [
    {
     "name": "stdout",
     "output_type": "stream",
     "text": [
      "[ 1  3  6 10 15 21]\n"
     ]
    }
   ],
   "source": [
    "print(x.cumsum())    # Cumulative sum"
   ]
  },
  {
   "cell_type": "code",
   "execution_count": 22,
   "metadata": {},
   "outputs": [
    {
     "name": "stdout",
     "output_type": "stream",
     "text": [
      "[  1   2   6  24 120 720]\n"
     ]
    }
   ],
   "source": [
    "print(x.cumprod())   # Cumulative Product"
   ]
  },
  {
   "cell_type": "code",
   "execution_count": 23,
   "metadata": {},
   "outputs": [
    {
     "name": "stdout",
     "output_type": "stream",
     "text": [
      "[  2.71828183   7.3890561   20.08553692  54.59815003 148.4131591\n",
      " 403.42879349]\n"
     ]
    }
   ],
   "source": [
    "print(np.exp(x))     # Elementwise exponentiation"
   ]
  },
  {
   "cell_type": "code",
   "execution_count": 24,
   "metadata": {},
   "outputs": [
    {
     "name": "stdout",
     "output_type": "stream",
     "text": [
      "[1 1 1 1 1]\n"
     ]
    }
   ],
   "source": [
    "print(np.diff(x))    # Difference with previous element"
   ]
  },
  {
   "cell_type": "code",
   "execution_count": 25,
   "metadata": {},
   "outputs": [
    {
     "name": "stdout",
     "output_type": "stream",
     "text": [
      "[6 2 3 1 5 4]\n",
      "3\n",
      "0\n"
     ]
    }
   ],
   "source": [
    "np.random.shuffle(x)       # Shuffle the array\n",
    "print(x)\n",
    "print(np.argmin(x))        # Minimum element\n",
    "print(np.argmax(x))        # Minimum element"
   ]
  },
  {
   "cell_type": "markdown",
   "metadata": {},
   "source": [
    "# Some basic statistics"
   ]
  },
  {
   "cell_type": "code",
   "execution_count": 26,
   "metadata": {},
   "outputs": [
    {
     "data": {
      "text/plain": [
       "3.5"
      ]
     },
     "execution_count": 26,
     "metadata": {},
     "output_type": "execute_result"
    }
   ],
   "source": [
    "x.mean() # Calculate Mean"
   ]
  },
  {
   "cell_type": "code",
   "execution_count": 27,
   "metadata": {},
   "outputs": [
    {
     "data": {
      "text/plain": [
       "1.707825127659933"
      ]
     },
     "execution_count": 27,
     "metadata": {},
     "output_type": "execute_result"
    }
   ],
   "source": [
    "x.std() # Calculate standard deviation"
   ]
  },
  {
   "cell_type": "code",
   "execution_count": 28,
   "metadata": {},
   "outputs": [
    {
     "data": {
      "text/plain": [
       "2.9166666666666665"
      ]
     },
     "execution_count": 28,
     "metadata": {},
     "output_type": "execute_result"
    }
   ],
   "source": [
    "x.var() # Calculate variance"
   ]
  },
  {
   "cell_type": "markdown",
   "metadata": {},
   "source": [
    "# Linear Algebra\n",
    "[Linear Algebra Routines](https://docs.scipy.org/doc/numpy-1.14.0/reference/routines.linalg.html)"
   ]
  },
  {
   "cell_type": "code",
   "execution_count": 29,
   "metadata": {},
   "outputs": [
    {
     "name": "stdout",
     "output_type": "stream",
     "text": [
      "[[0.84324161 0.28944256 0.99565251 0.877388  ]\n",
      " [0.83620672 0.25059289 0.62430602 0.91733031]\n",
      " [0.18154832 0.69552463 0.62837966 0.74212008]]\n"
     ]
    }
   ],
   "source": [
    "x = np.random.random((3, 4)) # Generate a random 3x4 matrix\n",
    "\n",
    "x = np.mat(x) # Interpret as a matrix\n",
    "print(x)"
   ]
  },
  {
   "cell_type": "code",
   "execution_count": 30,
   "metadata": {},
   "outputs": [
    {
     "name": "stdout",
     "output_type": "stream",
     "text": [
      "[[0.84324161 0.83620672 0.18154832]\n",
      " [0.28944256 0.25059289 0.69552463]\n",
      " [0.99565251 0.62430602 0.62837966]\n",
      " [0.877388   0.91733031 0.74212008]]\n"
     ]
    }
   ],
   "source": [
    "y = x.transpose() # Matrix Transpose\n",
    "y = x.T\n",
    "print(y)"
   ]
  },
  {
   "cell_type": "code",
   "execution_count": 31,
   "metadata": {},
   "outputs": [
    {
     "name": "stdout",
     "output_type": "stream",
     "text": [
      "[[2.55596702 2.20410301 1.63117856]\n",
      " [2.20410301 1.99329138 1.3991759 ]\n",
      " [1.63117856 1.3991759  1.46231751]]\n",
      "[[2.55596702 2.20410301 1.63117856]\n",
      " [2.20410301 1.99329138 1.3991759 ]\n",
      " [1.63117856 1.3991759  1.46231751]]\n"
     ]
    }
   ],
   "source": [
    "z = np.matmul(x, y) # Matrix Multiplication\n",
    "print(z)\n",
    "z = x @ y # Shorthand for the same thing\n",
    "print(z)"
   ]
  },
  {
   "cell_type": "code",
   "execution_count": 32,
   "metadata": {},
   "outputs": [
    {
     "name": "stdout",
     "output_type": "stream",
     "text": [
      "(array([5.60997182, 0.05057345, 0.35103065]), matrix([[ 0.66792312,  0.68550325, -0.28976544],\n",
      "        [ 0.58502148, -0.72427601, -0.3649303 ],\n",
      "        [ 0.46003106, -0.07422638,  0.88479482]]))\n"
     ]
    }
   ],
   "source": [
    "print(np.linalg.eig(z)) # Eigenvalue / Eigenvectors"
   ]
  },
  {
   "cell_type": "code",
   "execution_count": 33,
   "metadata": {},
   "outputs": [
    {
     "name": "stdout",
     "output_type": "stream",
     "text": [
      "(matrix([[-0.66792312,  0.28976544,  0.68550325],\n",
      "        [-0.58502148,  0.3649303 , -0.72427601],\n",
      "        [-0.46003106, -0.88479482, -0.07422638]]), array([5.60997182, 0.35103065, 0.05057345]), matrix([[-0.66792312, -0.58502148, -0.46003106],\n",
      "        [ 0.28976544,  0.3649303 , -0.88479482],\n",
      "        [ 0.68550325, -0.72427601, -0.07422638]]))\n"
     ]
    }
   ],
   "source": [
    "print(np.linalg.svd(z)) # Singular Value Decomposition"
   ]
  },
  {
   "cell_type": "code",
   "execution_count": 34,
   "metadata": {},
   "outputs": [
    {
     "name": "stdout",
     "output_type": "stream",
     "text": [
      "[[ 9.61044314 -9.44638524 -1.68171019]\n",
      " [-9.44638524 10.81294016  0.19115945]\n",
      " [-1.68171019  0.19115945  2.37684626]]\n"
     ]
    }
   ],
   "source": [
    "print(np.linalg.inv(z)) # Matrix Inverse"
   ]
  },
  {
   "cell_type": "markdown",
   "metadata": {},
   "source": [
    "# Compute a boostrap CI Example"
   ]
  },
  {
   "cell_type": "markdown",
   "metadata": {},
   "source": [
    "The boostrap is a technique for estimating the distribution of a test statistic nonparametrically. The basic idea is that if our sample is representative of our population, than samples where we sample from our data with replacement are also representative of the population. We can use this idea then to build distributions of test statistics nonparametrically and we can do things with this distribution to estimate quantities of interest nonparametrically.\n",
    "\n",
    "Let's walk through building a bootstrap distribution to estimate th 95% confidence interval of the mean for a single quantitative variable."
   ]
  },
  {
   "cell_type": "code",
   "execution_count": 36,
   "metadata": {},
   "outputs": [
    {
     "data": {
      "image/png": "[encoded data removed]",
      "text/plain": [
       "<Figure size 432x288 with 1 Axes>"
      ]
     },
     "metadata": {
      "needs_background": "light"
     },
     "output_type": "display_data"
    }
   ],
   "source": [
    "# Build 95% bootstrap CI\n",
    "x = np.random.gamma(10, 2, 100) # Draw a sample of size 100 from a Gamma(10, 2) distribution\n",
    "\n",
    "plt.hist(x, bins=50, normed=1)       # Plot a histogram of this sample\n",
    "plt.show()\n"
   ]
  },
  {
   "cell_type": "code",
   "execution_count": 37,
   "metadata": {},
   "outputs": [
    {
     "data": {
      "text/plain": [
       "array([[50, 74, 14, ..., 96, 95,  2],\n",
       "       [93, 18, 36, ..., 87, 15, 55],\n",
       "       [72, 59, 57, ..., 78, 15, 85],\n",
       "       ...,\n",
       "       [99, 58, 76, ..., 54, 46, 31],\n",
       "       [28, 83,  5, ..., 93, 86, 55],\n",
       "       [93, 54, 62, ..., 86,  4, 54]])"
      ]
     },
     "execution_count": 37,
     "metadata": {},
     "output_type": "execute_result"
    }
   ],
   "source": [
    "\n",
    "N = 1000 # number of bootstrap samples\n",
    "idx = np.random.randint(0, x.size, (N, x.size)) # Multidimensional array of our indices\n",
    "idx\n"
   ]
  },
  {
   "cell_type": "code",
   "execution_count": 38,
   "metadata": {},
   "outputs": [
    {
     "data": {
      "text/plain": [
       "array([[14.61307384, 11.93856802, 25.42644659, ...,  8.71371621,\n",
       "        26.56017152, 10.96748123],\n",
       "       [13.41271685, 31.24092708, 19.13451903, ..., 22.23949389,\n",
       "        31.94967913, 25.15516738],\n",
       "       [35.18629517, 12.20327308, 13.93605117, ..., 21.92029376,\n",
       "        31.94967913, 21.18144236],\n",
       "       ...,\n",
       "       [18.60655534, 26.8390189 , 16.71837621, ..., 18.67524804,\n",
       "        19.79217781, 20.07389355],\n",
       "       [13.62141241, 20.20908457,  9.81724614, ..., 13.41271685,\n",
       "        24.05094898, 25.15516738],\n",
       "       [13.41271685, 18.67524804, 18.3767793 , ..., 24.05094898,\n",
       "        31.11633195, 18.67524804]])"
      ]
     },
     "execution_count": 38,
     "metadata": {},
     "output_type": "execute_result"
    }
   ],
   "source": [
    "bootstrap_samples = x[idx]\n",
    "bootstrap_samples"
   ]
  },
  {
   "cell_type": "code",
   "execution_count": 39,
   "metadata": {},
   "outputs": [
    {
     "data": {
      "image/png": "[encoded data removed]",
      "text/plain": [
       "<Figure size 432x288 with 1 Axes>"
      ]
     },
     "metadata": {
      "needs_background": "light"
     },
     "output_type": "display_data"
    }
   ],
   "source": [
    "plt.hist(bootstrap_samples[1], bins=50, normed=1)       # matplotlib version (plot)\n",
    "plt.show()"
   ]
  },
  {
   "cell_type": "code",
   "execution_count": 40,
   "metadata": {},
   "outputs": [
    {
     "data": {
      "image/png": "[encoded data removed]",
      "text/plain": [
       "<Figure size 432x288 with 1 Axes>"
      ]
     },
     "metadata": {
      "needs_background": "light"
     },
     "output_type": "display_data"
    }
   ],
   "source": [
    "means = x[idx].mean(axis=1)\n",
    "means\n",
    "plt.hist(means, bins=50, normed=1)       # matplotlib version (plot)\n",
    "plt.show()"
   ]
  },
  {
   "cell_type": "code",
   "execution_count": 41,
   "metadata": {},
   "outputs": [
    {
     "name": "stdout",
     "output_type": "stream",
     "text": [
      "[18.26127881 20.64142304]\n"
     ]
    }
   ],
   "source": [
    "confint = np.percentile(means, [2.5, 97.5])\n",
    "print(confint)"
   ]
  },
  {
   "cell_type": "code",
   "execution_count": 42,
   "metadata": {},
   "outputs": [
    {
     "data": {
      "image/png": "[encoded data removed]",
      "text/plain": [
       "<Figure size 432x288 with 1 Axes>"
      ]
     },
     "metadata": {
      "needs_background": "light"
     },
     "output_type": "display_data"
    }
   ],
   "source": [
    "# Same problem but using the apply_along_axis() function\n",
    "\n",
    "means = np.apply_along_axis(np.mean, 1, x[idx])\n",
    "\n",
    "plt.hist(means, bins=50, normed=1)       # matplotlib version (plot)\n",
    "plt.show()"
   ]
  },
  {
   "cell_type": "markdown",
   "metadata": {},
   "source": [
    "# Exercise\n",
    "\n",
    "Consider the following scenario. Suppose we work as a quality control engineer for a brewery in Dublin, Ireland. The brewing experts tell us that we need an original gravity of 1.080 for making their signature beer, but have been having a hard time hitting the mark with their new mashing process. They think they've sorted out their issues, and have gathered some data to help decide if they have worked out the kinks in their new process. They've come to you with their data and have asked for you to decide whether the mean original gravity of their new process is 1.080. To answer their question, we will conduct a one-sample t-test. Consider the following hypothesis:\n",
    "\n",
    "$$H_0: \\mu = \\mu_{0} = 1.080$$\n",
    "\n",
    "vs\n",
    "\n",
    "$$H_1: \\mu \\neq \\mu_{0}$$\n",
    "\n",
    "The t-statistic for a one-sample t-test is\n",
    "\n",
    "$$ t = \\frac{(\\bar{X} - \\mu_{0})}{s/ \\sqrt{n }}$$.\n",
    "\n",
    "Normally, to conduct this hypothesis test, we would calculate the t-statistic and compare it to the quantiles of a  t-distribution to calculate a p-value for this hypothesis test. However, we will estimate this via the bootstrap. That is, instead of comparing to the theoretical t-distribution, we will compare to the nonparametric bootstrap distribution. We will walk you through this process.\n",
    "\n",
    "1. Read in the csv of their data into a numpy array.\n",
    "2. Plot a histogram showing the distribution of their original gravity readings."
   ]
  },
  {
   "cell_type": "code",
   "execution_count": 47,
   "metadata": {},
   "outputs": [
    {
     "data": {
      "text/plain": [
       "array([1.07660333, 1.07775444, 1.07673878, 1.07614718, 1.07655131,\n",
       "       1.07697771, 1.07666657, 1.07704542, 1.07606996, 1.07556437,\n",
       "       1.07696558, 1.07692811, 1.07777053, 1.07654715, 1.0772491 ,\n",
       "       1.07612383, 1.07800236, 1.07625482, 1.07584034, 1.07720413,\n",
       "       1.07802118, 1.07750642, 1.07691086, 1.07849633, 1.07514632,\n",
       "       1.07605121, 1.0756489 , 1.07758637, 1.07795639, 1.07688081])"
      ]
     },
     "execution_count": 47,
     "metadata": {},
     "output_type": "execute_result"
    }
   ],
   "source": [
    "x = np.genfromtxt('beer_gravity.csv', delimiter=\",\")\n",
    "x"
   ]
  },
  {
   "cell_type": "code",
   "execution_count": 55,
   "metadata": {},
   "outputs": [
    {
     "data": {
      "image/png": "[encoded data removed]",
      "text/plain": [
       "<Figure size 432x288 with 1 Axes>"
      ]
     },
     "metadata": {
      "needs_background": "light"
     },
     "output_type": "display_data"
    }
   ],
   "source": [
    "plt.hist(x, bins=10, normed=1)\n",
    "plt.show()"
   ]
  },
  {
   "cell_type": "markdown",
   "metadata": {},
   "source": [
    "3. Write a function that takes a one-dimensional numpy array and outputs the t-statistic for comparing the sample mean to 1.080 (i.e. $\\mu_0 = 1.080$) and use it to calculate the t-statistic for the sample you drew."
   ]
  },
  {
   "cell_type": "code",
   "execution_count": 64,
   "metadata": {},
   "outputs": [],
   "source": [
    "def t_stat(sample):\n",
    "    t = (np.mean(sample)-1.080)/(np.std(sample)/np.sqrt(sample.size))\n",
    "    return t"
   ]
  },
  {
   "cell_type": "code",
   "execution_count": 65,
   "metadata": {},
   "outputs": [
    {
     "data": {
      "text/plain": [
       "-21.43257655079255"
      ]
     },
     "execution_count": 65,
     "metadata": {},
     "output_type": "execute_result"
    }
   ],
   "source": [
    "t_stat(x)"
   ]
  },
  {
   "cell_type": "markdown",
   "metadata": {},
   "source": [
    "Now, we want to build the bootstrap distribution of t-statistics. \n",
    "\n",
    "4. Obtain 1000 bootstrap samples of the data\n"
   ]
  },
  {
   "cell_type": "code",
   "execution_count": 66,
   "metadata": {},
   "outputs": [
    {
     "data": {
      "text/plain": [
       "array([[29,  0, 25, ..., 19, 28, 25],\n",
       "       [20, 21, 20, ..., 16,  6, 27],\n",
       "       [ 6,  2, 27, ...,  3, 22,  4],\n",
       "       ...,\n",
       "       [22,  9, 26, ..., 10, 23, 27],\n",
       "       [26, 22,  1, ..., 27,  2, 27],\n",
       "       [13, 17,  0, ..., 28, 12,  2]])"
      ]
     },
     "execution_count": 66,
     "metadata": {},
     "output_type": "execute_result"
    }
   ],
   "source": [
    "N = 1000 # number of bootstrap samples\n",
    "idex = np.random.randint(0, x.size, (N, x.size)) # Multidimensional array of our indices\n",
    "idex"
   ]
  },
  {
   "cell_type": "markdown",
   "metadata": {},
   "source": [
    "5. Construct a numpy array that gives the t-statistic for each bootstrap sample.\n",
    "Hint: use the `apply_along_axis()`function"
   ]
  },
  {
   "cell_type": "code",
   "execution_count": 73,
   "metadata": {},
   "outputs": [],
   "source": [
    "tstats = np.apply_along_axis(t_stat, 1, x[idex])"
   ]
  },
  {
   "cell_type": "markdown",
   "metadata": {},
   "source": [
    "6. Plot a histogram of the distribution of t-statistics and add a red vertical line (use the `plt.axvline()` function) for the observed t-statistic (the one calculated on the original data)."
   ]
  },
  {
   "cell_type": "code",
   "execution_count": 75,
   "metadata": {},
   "outputs": [
    {
     "data": {
      "image/png": "[encoded data removed]",
      "text/plain": [
       "<Figure size 432x288 with 1 Axes>"
      ]
     },
     "metadata": {
      "needs_background": "light"
     },
     "output_type": "display_data"
    }
   ],
   "source": [
    "plt.hist(tstats, bins=10, normed=1)\n",
    "plt.axvline(t_stat(x), color='red')\n",
    "plt.show()"
   ]
  },
  {
   "cell_type": "markdown",
   "metadata": {},
   "source": [
    "Now, to compute the p-value, we count the number of bootstrapped t-statistics that are as or more extreme than the one we observed. If we let $t^*$ be the value we observed, then we are interested in the **proportion** of bootstrapped t-statistics are larger in absolute value (i.e. for which $t_b > |t^*|$).\n",
    "\n",
    "7. Compute this value to estimate the p-value associated with our hypothesis test of interest."
   ]
  },
  {
   "cell_type": "code",
   "execution_count": 80,
   "metadata": {},
   "outputs": [
    {
     "data": {
      "text/plain": [
       "0.439"
      ]
     },
     "execution_count": 80,
     "metadata": {},
     "output_type": "execute_result"
    }
   ],
   "source": [
    "sum(i>t_stat(x) for i in tstats)/tstats.size"
   ]
  },
  {
   "cell_type": "markdown",
   "metadata": {},
   "source": [
    "8. Given your p-value, make a determination relevant to the engineer's question of interest at the $\\alpha = 0.05$ level (Hint: if our p-value is less than $\\alpha$, we reject the null hypothesis and if our p-value is greater than $\\alpha$ we fail to reject our null hypothesis)."
   ]
  },
  {
   "cell_type": "markdown",
   "metadata": {},
   "source": []
  }
 ],
 "metadata": {
  "kernelspec": {
   "display_name": "Python 3",
   "language": "python",
   "name": "python3"
  },
  "language_info": {
   "codemirror_mode": {
    "name": "ipython",
    "version": 3
   },
   "file_extension": ".py",
   "mimetype": "text/x-python",
   "name": "python",
   "nbconvert_exporter": "python",
   "pygments_lexer": "ipython3",
   "version": "3.6.9"
  }
 },
 "nbformat": 4,
 "nbformat_minor": 2
}
