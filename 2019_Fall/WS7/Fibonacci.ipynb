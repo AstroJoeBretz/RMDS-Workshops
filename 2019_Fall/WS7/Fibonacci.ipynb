{
 "cells": [
  {
   "cell_type": "code",
   "execution_count": 9,
   "metadata": {},
   "outputs": [
    {
     "name": "stdout",
     "output_type": "stream",
     "text": [
      "55.0\n"
     ]
    }
   ],
   "source": [
    "import numpy as np\n",
    "\n",
    "def fib(n):\n",
    "    \"\"\"\n",
    "    This function returns the n'th Fibonacci number.\n",
    "    \"\"\"\n",
    "    N = n+2\n",
    "    f = np.nan*np.zeros(N) # Initialize an empty array\n",
    "    f[1] = f[2] = 1 # Starting Fibonacci numbers\n",
    "\n",
    "    # Estimate the rest\n",
    "    for i in range(3, N):\n",
    "        f[i] = f[i-1] + f[i-2]\n",
    "    return f[-2]\n",
    "\n",
    "print(fib(10)) # 10th Fibonacci number should be 55"
   ]
  },
  {
   "cell_type": "code",
   "execution_count": 10,
   "metadata": {},
   "outputs": [
    {
     "data": {
      "text/plain": [
       "34.0"
      ]
     },
     "execution_count": 10,
     "metadata": {},
     "output_type": "execute_result"
    }
   ],
   "source": [
    "fib(9)"
   ]
  },
  {
   "cell_type": "code",
   "execution_count": 12,
   "metadata": {},
   "outputs": [
    {
     "name": "stdout",
     "output_type": "stream",
     "text": [
      "1.0\n",
      "1.0\n",
      "2.0\n",
      "3.0\n",
      "5.0\n",
      "8.0\n",
      "13.0\n",
      "21.0\n",
      "34.0\n",
      "55.0\n"
     ]
    }
   ],
   "source": [
    "for i in range(1,11):\n",
    "    print(fib(i))"
   ]
  },
  {
   "cell_type": "code",
   "execution_count": 13,
   "metadata": {},
   "outputs": [
    {
     "data": {
      "text/plain": [
       "55.0"
      ]
     },
     "execution_count": 13,
     "metadata": {},
     "output_type": "execute_result"
    }
   ],
   "source": [
    "fib(10)"
   ]
  },
  {
   "cell_type": "code",
   "execution_count": null,
   "metadata": {},
   "outputs": [],
   "source": []
  }
 ],
 "metadata": {
  "kernelspec": {
   "display_name": "Python 3",
   "language": "python",
   "name": "python3"
  },
  "language_info": {
   "codemirror_mode": {
    "name": "ipython",
    "version": 3
   },
   "file_extension": ".py",
   "mimetype": "text/x-python",
   "name": "python",
   "nbconvert_exporter": "python",
   "pygments_lexer": "ipython3",
   "version": "3.6.9"
  }
 },
 "nbformat": 4,
 "nbformat_minor": 2
}
