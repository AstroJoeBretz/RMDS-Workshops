{
 "cells": [
  {
   "cell_type": "markdown",
   "metadata": {},
   "source": [
    "# MNIST Classification via Neural Network\n",
    "\n",
    "To build the neural network are going to use the TensorFlow library. Along the way we will talk about how to use a neural network to solve a classification problem, and the choices made when building a neural network.\n",
    "\n",
    "Tensorflow is a numerical computation library that focuses on machine learning models. It is written in Python but uses C++ for speed with large scale data. "
   ]
  },
  {
   "cell_type": "code",
   "execution_count": 1,
   "metadata": {
    "colab": {},
    "colab_type": "code",
    "id": "efRYtZ1YKOax"
   },
   "outputs": [
    {
     "name": "stdout",
     "output_type": "stream",
     "text": [
      "Collecting tensorflow\n",
      "  Downloading https://files.pythonhosted.org/packages/31/6c/c1f6bc2ca251c627976acae937f4f27f7349300e2b69b711e47b092d2642/tensorflow-2.1.0-cp36-cp36m-win_amd64.whl (355.9MB)\n",
      "Requirement already satisfied: wrapt>=1.11.1 in c:\\users\\joebr\\anaconda3\\lib\\site-packages (from tensorflow) (1.11.2)\n",
      "Collecting absl-py>=0.7.0 (from tensorflow)\n",
      "  Downloading https://files.pythonhosted.org/packages/1a/53/9243c600e047bd4c3df9e69cfabc1e8004a82cac2e0c484580a78a94ba2a/absl-py-0.9.0.tar.gz (104kB)\n",
      "Requirement already satisfied: numpy<2.0,>=1.16.0 in c:\\users\\joebr\\anaconda3\\lib\\site-packages (from tensorflow) (1.16.5)\n",
      "Collecting astor>=0.6.0 (from tensorflow)\n",
      "  Downloading https://files.pythonhosted.org/packages/c3/88/97eef84f48fa04fbd6750e62dcceafba6c63c81b7ac1420856c8dcc0a3f9/astor-0.8.1-py2.py3-none-any.whl\n",
      "Collecting keras-applications>=1.0.8 (from tensorflow)\n",
      "  Downloading https://files.pythonhosted.org/packages/71/e3/19762fdfc62877ae9102edf6342d71b28fbfd9dea3d2f96a882ce099b03f/Keras_Applications-1.0.8-py3-none-any.whl (50kB)\n",
      "Collecting gast==0.2.2 (from tensorflow)\n",
      "  Downloading https://files.pythonhosted.org/packages/4e/35/11749bf99b2d4e3cceb4d55ca22590b0d7c2c62b9de38ac4a4a7f4687421/gast-0.2.2.tar.gz\n",
      "Collecting grpcio>=1.8.6 (from tensorflow)\n",
      "  Downloading https://files.pythonhosted.org/packages/12/5f/e781305bd0428f02aca645e23c09a75c508a063bf0247da9deda94d58b37/grpcio-1.27.2-cp36-cp36m-win_amd64.whl (2.0MB)\n",
      "Collecting tensorboard<2.2.0,>=2.1.0 (from tensorflow)\n",
      "  Downloading https://files.pythonhosted.org/packages/d9/41/bbf49b61370e4f4d245d4c6051dfb6db80cec672605c91b1652ac8cc3d38/tensorboard-2.1.1-py3-none-any.whl (3.8MB)\n",
      "Collecting opt-einsum>=2.3.2 (from tensorflow)\n",
      "  Downloading https://files.pythonhosted.org/packages/b2/49/2233e63052d5686c72131b579837ddfb98ba9dd0b92bb91efcb441ada8ce/opt_einsum-3.2.0-py3-none-any.whl (63kB)\n",
      "Requirement already satisfied: wheel>=0.26; python_version >= \"3\" in c:\\users\\joebr\\anaconda3\\lib\\site-packages (from tensorflow) (0.33.6)\n",
      "Collecting scipy==1.4.1; python_version >= \"3\" (from tensorflow)\n",
      "  Downloading https://files.pythonhosted.org/packages/8d/2f/fcb6150813b89d628749784370132e431f687ebab5a1063eb298cc941f76/scipy-1.4.1-cp36-cp36m-win_amd64.whl (30.8MB)\n",
      "Collecting termcolor>=1.1.0 (from tensorflow)\n",
      "  Downloading https://files.pythonhosted.org/packages/8a/48/a76be51647d0eb9f10e2a4511bf3ffb8cc1e6b14e9e4fab46173aa79f981/termcolor-1.1.0.tar.gz\n",
      "Collecting tensorflow-estimator<2.2.0,>=2.1.0rc0 (from tensorflow)\n",
      "  Downloading https://files.pythonhosted.org/packages/18/90/b77c328a1304437ab1310b463e533fa7689f4bfc41549593056d812fab8e/tensorflow_estimator-2.1.0-py2.py3-none-any.whl (448kB)\n",
      "Requirement already satisfied: six>=1.12.0 in c:\\users\\joebr\\anaconda3\\lib\\site-packages (from tensorflow) (1.12.0)\n",
      "Collecting google-pasta>=0.1.6 (from tensorflow)\n",
      "  Downloading https://files.pythonhosted.org/packages/c3/fd/1e86bc4837cc9a3a5faf3db9b1854aa04ad35b5f381f9648fbe81a6f94e4/google_pasta-0.1.8-py3-none-any.whl (57kB)\n",
      "Collecting keras-preprocessing>=1.1.0 (from tensorflow)\n",
      "  Downloading https://files.pythonhosted.org/packages/28/6a/8c1f62c37212d9fc441a7e26736df51ce6f0e38455816445471f10da4f0a/Keras_Preprocessing-1.1.0-py2.py3-none-any.whl (41kB)\n",
      "Collecting protobuf>=3.8.0 (from tensorflow)\n",
      "  Downloading https://files.pythonhosted.org/packages/ff/52/a71156b82dbb8a40833b7a571e22c9e65ca4204a56739f97d3eaa25d111e/protobuf-3.11.3-cp36-cp36m-win_amd64.whl (1.1MB)\n",
      "Requirement already satisfied: h5py in c:\\users\\joebr\\anaconda3\\lib\\site-packages (from keras-applications>=1.0.8->tensorflow) (2.9.0)\n",
      "Collecting google-auth<2,>=1.6.3 (from tensorboard<2.2.0,>=2.1.0->tensorflow)\n",
      "  Downloading https://files.pythonhosted.org/packages/5a/8d/e2ebbd0502627ed0d8a408162020e1c0792f088b49fddeedaaeebc206ed7/google_auth-1.11.2-py2.py3-none-any.whl (76kB)\n",
      "Requirement already satisfied: setuptools>=41.0.0 in c:\\users\\joebr\\anaconda3\\lib\\site-packages (from tensorboard<2.2.0,>=2.1.0->tensorflow) (41.4.0)\n",
      "Requirement already satisfied: requests<3,>=2.21.0 in c:\\users\\joebr\\anaconda3\\lib\\site-packages (from tensorboard<2.2.0,>=2.1.0->tensorflow) (2.22.0)\n",
      "Collecting markdown>=2.6.8 (from tensorboard<2.2.0,>=2.1.0->tensorflow)\n",
      "  Downloading https://files.pythonhosted.org/packages/ab/c4/ba46d44855e6eb1770a12edace5a165a0c6de13349f592b9036257f3c3d3/Markdown-3.2.1-py2.py3-none-any.whl (88kB)\n",
      "Collecting google-auth-oauthlib<0.5,>=0.4.1 (from tensorboard<2.2.0,>=2.1.0->tensorflow)\n",
      "  Downloading https://files.pythonhosted.org/packages/7b/b8/88def36e74bee9fce511c9519571f4e485e890093ab7442284f4ffaef60b/google_auth_oauthlib-0.4.1-py2.py3-none-any.whl\n",
      "Requirement already satisfied: werkzeug>=0.11.15 in c:\\users\\joebr\\anaconda3\\lib\\site-packages (from tensorboard<2.2.0,>=2.1.0->tensorflow) (0.16.0)\n",
      "Collecting pyasn1-modules>=0.2.1 (from google-auth<2,>=1.6.3->tensorboard<2.2.0,>=2.1.0->tensorflow)\n",
      "  Downloading https://files.pythonhosted.org/packages/95/de/214830a981892a3e286c3794f41ae67a4495df1108c3da8a9f62159b9a9d/pyasn1_modules-0.2.8-py2.py3-none-any.whl (155kB)\n",
      "Collecting cachetools<5.0,>=2.0.0 (from google-auth<2,>=1.6.3->tensorboard<2.2.0,>=2.1.0->tensorflow)\n",
      "  Downloading https://files.pythonhosted.org/packages/08/6a/abf83cb951617793fd49c98cb9456860f5df66ff89883c8660aa0672d425/cachetools-4.0.0-py3-none-any.whl\n",
      "Collecting rsa<4.1,>=3.1.4 (from google-auth<2,>=1.6.3->tensorboard<2.2.0,>=2.1.0->tensorflow)\n",
      "  Downloading https://files.pythonhosted.org/packages/02/e5/38518af393f7c214357079ce67a317307936896e961e35450b70fad2a9cf/rsa-4.0-py2.py3-none-any.whl\n",
      "Requirement already satisfied: urllib3!=1.25.0,!=1.25.1,<1.26,>=1.21.1 in c:\\users\\joebr\\anaconda3\\lib\\site-packages (from requests<3,>=2.21.0->tensorboard<2.2.0,>=2.1.0->tensorflow) (1.24.2)\n",
      "Requirement already satisfied: chardet<3.1.0,>=3.0.2 in c:\\users\\joebr\\anaconda3\\lib\\site-packages (from requests<3,>=2.21.0->tensorboard<2.2.0,>=2.1.0->tensorflow) (3.0.4)\n",
      "Requirement already satisfied: idna<2.9,>=2.5 in c:\\users\\joebr\\anaconda3\\lib\\site-packages (from requests<3,>=2.21.0->tensorboard<2.2.0,>=2.1.0->tensorflow) (2.8)\n",
      "Requirement already satisfied: certifi>=2017.4.17 in c:\\users\\joebr\\anaconda3\\lib\\site-packages (from requests<3,>=2.21.0->tensorboard<2.2.0,>=2.1.0->tensorflow) (2019.9.11)\n",
      "Collecting requests-oauthlib>=0.7.0 (from google-auth-oauthlib<0.5,>=0.4.1->tensorboard<2.2.0,>=2.1.0->tensorflow)\n",
      "  Downloading https://files.pythonhosted.org/packages/a3/12/b92740d845ab62ea4edf04d2f4164d82532b5a0b03836d4d4e71c6f3d379/requests_oauthlib-1.3.0-py2.py3-none-any.whl\n",
      "Requirement already satisfied: pyasn1<0.5.0,>=0.4.6 in c:\\users\\joebr\\anaconda3\\lib\\site-packages (from pyasn1-modules>=0.2.1->google-auth<2,>=1.6.3->tensorboard<2.2.0,>=2.1.0->tensorflow) (0.4.7)\n",
      "Collecting oauthlib>=3.0.0 (from requests-oauthlib>=0.7.0->google-auth-oauthlib<0.5,>=0.4.1->tensorboard<2.2.0,>=2.1.0->tensorflow)\n",
      "  Downloading https://files.pythonhosted.org/packages/05/57/ce2e7a8fa7c0afb54a0581b14a65b56e62b5759dbc98e80627142b8a3704/oauthlib-3.1.0-py2.py3-none-any.whl (147kB)\n",
      "Building wheels for collected packages: absl-py, gast, termcolor\n",
      "  Building wheel for absl-py (setup.py): started\n",
      "  Building wheel for absl-py (setup.py): finished with status 'done'\n",
      "  Created wheel for absl-py: filename=absl_py-0.9.0-cp36-none-any.whl size=121937 sha256=62a4294a4ea9b562354f1779447a483f184a79d0ad9511b8d6bfa18c6aedabc5\n",
      "  Stored in directory: C:\\Users\\joebr\\AppData\\Local\\pip\\Cache\\wheels\\8e\\28\\49\\fad4e7f0b9a1227708cbbee4487ac8558a7334849cb81c813d\n",
      "  Building wheel for gast (setup.py): started\n",
      "  Building wheel for gast (setup.py): finished with status 'done'\n",
      "  Created wheel for gast: filename=gast-0.2.2-cp36-none-any.whl size=7547 sha256=c64f43e9852a923b5ec99adc070db242d41d3f3fc6fc3754c225e45b1170ac03\n",
      "  Stored in directory: C:\\Users\\joebr\\AppData\\Local\\pip\\Cache\\wheels\\5c\\2e\\7e\\a1d4d4fcebe6c381f378ce7743a3ced3699feb89bcfbdadadd\n",
      "  Building wheel for termcolor (setup.py): started\n",
      "  Building wheel for termcolor (setup.py): finished with status 'done'\n",
      "  Created wheel for termcolor: filename=termcolor-1.1.0-cp36-none-any.whl size=4835 sha256=8e1b6e5deba96d74c951464e6c9e31cd5a7669131987ae1089dfe826786a3dd9\n",
      "  Stored in directory: C:\\Users\\joebr\\AppData\\Local\\pip\\Cache\\wheels\\7c\\06\\54\\bc84598ba1daf8f970247f550b175aaaee85f68b4b0c5ab2c6\n",
      "Successfully built absl-py gast termcolor\n",
      "Installing collected packages: absl-py, astor, keras-applications, gast, grpcio, pyasn1-modules, cachetools, rsa, google-auth, protobuf, markdown, oauthlib, requests-oauthlib, google-auth-oauthlib, tensorboard, opt-einsum, scipy, termcolor, tensorflow-estimator, google-pasta, keras-preprocessing, tensorflow\n",
      "  Found existing installation: scipy 1.3.1\n",
      "    Uninstalling scipy-1.3.1:\n",
      "      Successfully uninstalled scipy-1.3.1\n",
      "Note: you may need to restart the kernel to use updated packages.\n"
     ]
    },
    {
     "name": "stderr",
     "output_type": "stream",
     "text": [
      "ERROR: Could not install packages due to an EnvironmentError: [WinError 5] Access is denied: 'c:\\\\users\\\\joebr\\\\anaconda3\\\\lib\\\\site-packages\\\\~cipy\\\\integrate\\\\lsoda.cp36-win_amd64.pyd'\n",
      "Consider using the `--user` option or check the permissions.\n",
      "\n"
     ]
    }
   ],
   "source": [
    "pip install tensorflow"
   ]
  },
  {
   "cell_type": "code",
   "execution_count": null,
   "metadata": {},
   "outputs": [],
   "source": [
    "# this clears some errors, but isn't necessary for the rest\n",
    "pip install \"numpy<1.17\""
   ]
  },
  {
   "cell_type": "markdown",
   "metadata": {
    "colab_type": "text",
    "id": "n6ovxd9JTps-"
   },
   "source": [
    "## Get the data \n",
    "* We can do this by applying the load_data method on the mnist data in keras\n",
    "* By default, the data has been split into training and test set"
   ]
  },
  {
   "cell_type": "code",
   "execution_count": 2,
   "metadata": {
    "colab": {},
    "colab_type": "code",
    "id": "oLBDVJ3QT7ko"
   },
   "outputs": [
    {
     "name": "stdout",
     "output_type": "stream",
     "text": [
      "Downloading data from https://storage.googleapis.com/tensorflow/tf-keras-datasets/mnist.npz\n",
      "11493376/11490434 [==============================] - 1s 0us/step\n"
     ]
    }
   ],
   "source": [
    "from tensorflow.keras.datasets import mnist\n",
    "\n",
    "(X_train, y_train), (X_test, y_test) = mnist.load_data()"
   ]
  },
  {
   "cell_type": "markdown",
   "metadata": {
    "colab_type": "text",
    "id": "qcBuojv7UlJT"
   },
   "source": [
    "## Explore the data\n",
    "* Check the shape (the dimensions of the data)\n",
    "* View an image"
   ]
  },
  {
   "cell_type": "code",
   "execution_count": 3,
   "metadata": {
    "colab": {
     "base_uri": "https://localhost:8080/",
     "height": 70
    },
    "colab_type": "code",
    "id": "dFMeeNQgT_L6",
    "outputId": "8a079e83-85b2-411e-a39b-ecd66ba5eebc"
   },
   "outputs": [
    {
     "name": "stdout",
     "output_type": "stream",
     "text": [
      "Shape of training data:  (60000, 28, 28)\n",
      "Amount of testing data:  10000\n",
      "Shape of training classifications:  (60000,)\n"
     ]
    }
   ],
   "source": [
    "print('Shape of training data: ' ,X_train.shape)\n",
    "print('Amount of testing data: ' , len(X_test))\n",
    "print('Shape of training classifications: ' , y_train.shape)"
   ]
  },
  {
   "cell_type": "code",
   "execution_count": 5,
   "metadata": {
    "colab": {},
    "colab_type": "code",
    "id": "h4djfKmaVJwp"
   },
   "outputs": [
    {
     "name": "stdout",
     "output_type": "stream",
     "text": [
      "Classification is  6\n"
     ]
    },
    {
     "data": {
      "image/png": "[encoded data removed]",
      "text/plain": [
       "<Figure size 432x288 with 1 Axes>"
      ]
     },
     "metadata": {
      "needs_background": "light"
     },
     "output_type": "display_data"
    }
   ],
   "source": [
    "import matplotlib.pyplot as plt \n",
    "import numpy as np\n",
    "\n",
    "num = 147\n",
    "print('Classification is ', y_train[num])\n",
    "img = np.reshape(X_train[num], (28, 28))\n",
    "plt.imshow(img,cmap='gray')\n",
    "plt.show()"
   ]
  },
  {
   "cell_type": "markdown",
   "metadata": {
    "colab_type": "text",
    "id": "t2Wou3yxWfAd"
   },
   "source": [
    "## Reshape the data\n",
    "* Since we are using a fully connected layer which has shape = (samples, features), we need to reshape the training and test samples to suit that dimension.\n",
    "* Also, we will scale our values to be in [0,1] interval and convert to float32.\n",
    "* Previously, the values are of type unit8 and in the [0, 255].\n",
    "* Also, reshape the labels to have categories "
   ]
  },
  {
   "cell_type": "code",
   "execution_count": 6,
   "metadata": {
    "colab": {},
    "colab_type": "code",
    "id": "PCgifH1ZXHiu"
   },
   "outputs": [],
   "source": [
    "X_train = X_train.reshape((60000, 28 * 28))\n",
    "X_train = X_train.astype('float32')/255\n",
    "\n",
    "X_test = X_test.reshape((10000, 28 * 28))\n",
    "X_test = X_test.astype('float32')/255\n",
    "\n",
    "\n",
    "# reshape the labels\n",
    "\n",
    "from tensorflow.keras.utils import to_categorical\n",
    "y_train = to_categorical(y_train)\n",
    "y_test = to_categorical(y_test)"
   ]
  },
  {
   "cell_type": "markdown",
   "metadata": {
    "colab_type": "text",
    "id": "AoGj_8f_Z8LS"
   },
   "source": [
    "## Examine the data"
   ]
  },
  {
   "cell_type": "code",
   "execution_count": 7,
   "metadata": {
    "colab": {
     "base_uri": "https://localhost:8080/",
     "height": 158
    },
    "colab_type": "code",
    "id": "tqHMs896X7fg",
    "outputId": "497be2b6-bf15-43e4-8906-c2a41926199d"
   },
   "outputs": [
    {
     "name": "stdout",
     "output_type": "stream",
     "text": [
      "[[0. 0. 0. ... 0. 0. 0.]\n",
      " [0. 0. 0. ... 0. 0. 0.]\n",
      " [0. 0. 0. ... 0. 0. 0.]\n",
      " ...\n",
      " [0. 0. 0. ... 0. 0. 0.]\n",
      " [0. 0. 0. ... 0. 0. 0.]\n",
      " [0. 0. 0. ... 0. 0. 0.]]\n",
      "Our labels have 10 classes\n"
     ]
    },
    {
     "data": {
      "image/png": "[encoded data removed]",
      "text/plain": [
       "<Figure size 432x288 with 1 Axes>"
      ]
     },
     "metadata": {
      "needs_background": "light"
     },
     "output_type": "display_data"
    }
   ],
   "source": [
    "print(X_train[:10])\n",
    "plt.imshow(np.reshape(X_train[0],(28,28)),cmap='gray')\n",
    "print(\"Our labels have {} classes\".format(y_train.shape[1]))"
   ]
  },
  {
   "cell_type": "markdown",
   "metadata": {
    "colab_type": "text",
    "id": "GFhGqIBicVTz"
   },
   "source": [
    "## Build your architecture\n",
    "We are using the sequential model in keras which involves stacking up the layers sequentially.\n",
    "* Here, we are using 3 fully connected layers\n",
    "* Specify the activation function (e.g. Relu)\n",
    "* Specify the number of nodes in each hidden layer"
   ]
  },
  {
   "cell_type": "code",
   "execution_count": 131,
   "metadata": {
    "colab": {},
    "colab_type": "code",
    "id": "ZAst4ZnFaNpD"
   },
   "outputs": [],
   "source": [
    "from tensorflow.keras.models import Sequential\n",
    "from tensorflow.keras.layers import Dense\n",
    "\n",
    "# instantiate the model\n",
    "model = Sequential() \n",
    "\n",
    "# the first layer is where we specify the input shape\n",
    "model.add(Dense(256, activation = 'relu', input_shape = (28 * 28, )))  \n",
    "model.add(Dense(4, activation = 'relu'))\n",
    "\n",
    "# in the last layer, we specify number of labels to expect\n",
    "model.add(Dense(10, activation = 'softmax'))   \n",
    "\n"
   ]
  },
  {
   "cell_type": "markdown",
   "metadata": {
    "colab_type": "text",
    "id": "Jkx9FH48eODw"
   },
   "source": [
    "## Compile the network\n",
    "* Here, we specify the optimizer to use for our weight update (e.g. RMSprop)\n",
    "* Specify the loss function (e.g. categorical_crossentropy)\n",
    "* Metrics to monitor (e.g. accuracy)"
   ]
  },
  {
   "cell_type": "code",
   "execution_count": 132,
   "metadata": {
    "colab": {},
    "colab_type": "code",
    "id": "DLBZhUVWeKZg"
   },
   "outputs": [],
   "source": [
    "model.compile(optimizer = 'rmsprop',\n",
    "              loss = 'categorical_crossentropy',\n",
    "              metrics = ['accuracy'])"
   ]
  },
  {
   "cell_type": "markdown",
   "metadata": {
    "colab_type": "text",
    "id": "Zhrwe2UKe9BB"
   },
   "source": [
    "## Fit the model\n",
    "* specify the number of epochs; epochs refers to the number of iteration to train all the data.\n",
    "* batch size: batches of data to use for training at a time\n",
    "  \n",
    "After the model is trained, we will plot some metrics to see how things changed during the training"
   ]
  },
  {
   "cell_type": "code",
   "execution_count": 133,
   "metadata": {
    "colab": {
     "base_uri": "https://localhost:8080/",
     "height": 228
    },
    "colab_type": "code",
    "id": "9r8cfYnte7gp",
    "outputId": "4aeff01e-0c46-4813-efb2-c33146cf42b4"
   },
   "outputs": [
    {
     "name": "stdout",
     "output_type": "stream",
     "text": [
      "Train on 60000 samples\n",
      "Epoch 1/5\n",
      "60000/60000 [==============================] - 4s 65us/sample - loss: 0.8669 - accuracy: 0.7259\n",
      "Epoch 2/5\n",
      "60000/60000 [==============================] - 3s 55us/sample - loss: 0.2884 - accuracy: 0.9277\n",
      "Epoch 3/5\n",
      "60000/60000 [==============================] - 3s 53us/sample - loss: 0.1892 - accuracy: 0.9516\n",
      "Epoch 4/5\n",
      "60000/60000 [==============================] - 3s 49us/sample - loss: 0.1484 - accuracy: 0.9619\n",
      "Epoch 5/5\n",
      "60000/60000 [==============================] - 3s 58us/sample - loss: 0.1234 - accuracy: 0.9690\n"
     ]
    }
   ],
   "source": [
    "history = model.fit(X_train, y_train, epochs = 5, batch_size = 128)"
   ]
  },
  {
   "cell_type": "code",
   "execution_count": 71,
   "metadata": {},
   "outputs": [
    {
     "data": {
      "image/png": "[encoded data removed]",
      "text/plain": [
       "<Figure size 432x288 with 2 Axes>"
      ]
     },
     "metadata": {
      "needs_background": "light"
     },
     "output_type": "display_data"
    }
   ],
   "source": [
    "# plot some metrics\n",
    "fig = plt.figure()\n",
    "plt.subplot(2,1,1)\n",
    "plt.plot(history.history['accuracy'])\n",
    "plt.title('model accuracy')\n",
    "plt.ylabel('accuracy')\n",
    "plt.xlabel('epoch')\n",
    "plt.legend(['train', 'test'], loc='lower right')\n",
    "\n",
    "plt.subplot(2,1,2)\n",
    "plt.plot(history.history['loss'])\n",
    "plt.title('model loss')\n",
    "plt.ylabel('loss')\n",
    "plt.xlabel('epoch')\n",
    "plt.legend(['train', 'test'], loc='upper right')\n",
    "\n",
    "plt.tight_layout()"
   ]
  },
  {
   "cell_type": "markdown",
   "metadata": {
    "colab_type": "text",
    "id": "J25Vpe0dglfx"
   },
   "source": [
    "## Evaluate the model's performance\n",
    "* Examine the model's performance on the test data to see if it overfits"
   ]
  },
  {
   "cell_type": "code",
   "execution_count": 134,
   "metadata": {
    "colab": {
     "base_uri": "https://localhost:8080/",
     "height": 52
    },
    "colab_type": "code",
    "id": "jxLWWy_Yfxp-",
    "outputId": "87d9126a-cc62-4aac-ba50-7997ae9f175c"
   },
   "outputs": [
    {
     "name": "stdout",
     "output_type": "stream",
     "text": [
      "10000/10000 [==============================] - 1s 86us/sample - loss: 0.1495 - accuracy: 0.9635\n"
     ]
    }
   ],
   "source": [
    "test_lossb4, test_accb4 = model.evaluate(X_test, y_test)"
   ]
  },
  {
   "cell_type": "markdown",
   "metadata": {
    "colab_type": "text",
    "id": "7YZyX-4ZhYYB"
   },
   "source": [
    "## Save your model\n",
    "* It is a good practice to save your model\n",
    "* To reuse your saved model, type: from keras.models import load_model\n",
    "* Then, load_model('model name')\n",
    "* The saved model saves the layers used with the network updates"
   ]
  },
  {
   "cell_type": "code",
   "execution_count": 12,
   "metadata": {
    "colab": {},
    "colab_type": "code",
    "id": "lcAwE61YhQsC"
   },
   "outputs": [],
   "source": [
    "model.save('my_model.h5')"
   ]
  },
  {
   "cell_type": "markdown",
   "metadata": {
    "colab_type": "text",
    "id": "8yz6NEhejbQx"
   },
   "source": [
    "## Generate predictions\n",
    "* Use the testing data to see the model's predictions\n",
    "* Display a test image and its prediction"
   ]
  },
  {
   "cell_type": "code",
   "execution_count": 18,
   "metadata": {
    "colab": {},
    "colab_type": "code",
    "id": "fNmZN5EAje8e"
   },
   "outputs": [
    {
     "name": "stdout",
     "output_type": "stream",
     "text": [
      "Predicted:  9\n"
     ]
    },
    {
     "data": {
      "image/png": "[encoded data removed]",
      "text/plain": [
       "<Figure size 432x288 with 1 Axes>"
      ]
     },
     "metadata": {
      "needs_background": "light"
     },
     "output_type": "display_data"
    }
   ],
   "source": [
    "predictions = model.predict_classes(X_test)\n",
    "\n",
    "img = np.reshape(X_test[481],(28,28))\n",
    "plt.imshow(img)\n",
    "print('Predicted: ',predictions[481])"
   ]
  },
  {
   "cell_type": "markdown",
   "metadata": {},
   "source": [
    "# Workshop Tasks\n",
    "1. Modify the network architecture by changing the number of layers, the number of nodes, and/or the activation function. Do your changes help or hurt the accuracy?\n",
    "2. Modify the model fit by changing the number of epochs and/or batch_size. Do your changes help or hurt the accuracy?\n",
    "3. Try building a model for the MNIST Fashion dataset, which has clothing classifications instead of digits. You will need to load the MNIST Fashion data, build an architecture then compile and fit a model. Then you can inspect accuracy and visualize your predictions. "
   ]
  },
  {
   "cell_type": "code",
   "execution_count": 100,
   "metadata": {},
   "outputs": [
    {
     "data": {
      "image/png": "[encoded data removed]",
      "text/plain": [
       "<Figure size 432x288 with 1 Axes>"
      ]
     },
     "metadata": {
      "needs_background": "light"
     },
     "output_type": "display_data"
    }
   ],
   "source": [
    "plt.plot([2,3,4,5,6,8,16,32,64,128,256,512,1024],\n",
    " [test_acc2,test_acc3,test_acc4,test_acc5,test_acc6,test_acc8,test_acc16,test_acc32,test_acc64,test_acc128,test_acc256,test_acc,test_acc1024])\n",
    "plt.xscale('log')\n",
    "plt.plot([2,3,4,5,6,8,16,32,64,128,256,512,1024],\n",
    " [test_loss2,test_loss3,test_loss4,test_loss5,test_loss6,test_loss8,test_loss16,test_loss32,test_loss64,test_loss128,test_loss256,test_loss,test_loss1024])\n",
    "plt.xscale('log')"
   ]
  },
  {
   "cell_type": "code",
   "execution_count": 135,
   "metadata": {},
   "outputs": [
    {
     "data": {
      "image/png": "[encoded data removed]",
      "text/plain": [
       "<Figure size 432x288 with 1 Axes>"
      ]
     },
     "metadata": {
      "needs_background": "light"
     },
     "output_type": "display_data"
    }
   ],
   "source": [
    "plt.plot([4,6,8,15,31,63,127,256],\n",
    " [test_accb4,test_accb6,test_accb8,test_acc15,test_acc31,test_acc63,test_acc127,test_acc256])\n",
    "plt.xscale('log')\n",
    "plt.plot([4,6,8,15,31,63,127,256],\n",
    " [test_lossb4,test_lossb6,test_lossb8,test_loss15,test_loss31,test_loss63,test_loss127,test_loss256])\n",
    "plt.xscale('log')"
   ]
  },
  {
   "cell_type": "code",
   "execution_count": null,
   "metadata": {},
   "outputs": [],
   "source": []
  }
 ],
 "metadata": {
  "colab": {
   "collapsed_sections": [],
   "name": "MNIST.ipynb",
   "provenance": []
  },
  "kernelspec": {
   "display_name": "Python 3",
   "language": "python",
   "name": "python3"
  },
  "language_info": {
   "codemirror_mode": {
    "name": "ipython",
    "version": 3
   },
   "file_extension": ".py",
   "mimetype": "text/x-python",
   "name": "python",
   "nbconvert_exporter": "python",
   "pygments_lexer": "ipython3",
   "version": "3.6.9"
  }
 },
 "nbformat": 4,
 "nbformat_minor": 1
}
