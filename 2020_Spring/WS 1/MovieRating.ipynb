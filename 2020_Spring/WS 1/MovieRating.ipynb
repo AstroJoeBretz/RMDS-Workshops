{
 "cells": [
  {
   "cell_type": "code",
   "execution_count": 2,
   "metadata": {},
   "outputs": [],
   "source": [
    "import pandas as pd\n",
    "import numpy as np"
   ]
  },
  {
   "cell_type": "code",
   "execution_count": 3,
   "metadata": {},
   "outputs": [],
   "source": [
    "df = pd.read_table('u.data',sep='\\t',names=['user','item','rating','time'])\n",
    "df1b = pd.read_table('u1.base',sep='\\t',names=['user','item','rating','time'])\n",
    "df1t = pd.read_table('u1.test',sep='\\t',names=['user','item','rating','time'])"
   ]
  },
  {
   "cell_type": "code",
   "execution_count": 4,
   "metadata": {},
   "outputs": [
    {
     "data": {
      "text/html": [
       "<div>\n",
       "<style scoped>\n",
       "    .dataframe tbody tr th:only-of-type {\n",
       "        vertical-align: middle;\n",
       "    }\n",
       "\n",
       "    .dataframe tbody tr th {\n",
       "        vertical-align: top;\n",
       "    }\n",
       "\n",
       "    .dataframe thead th {\n",
       "        text-align: right;\n",
       "    }\n",
       "</style>\n",
       "<table border=\"1\" class=\"dataframe\">\n",
       "  <thead>\n",
       "    <tr style=\"text-align: right;\">\n",
       "      <th></th>\n",
       "      <th>user</th>\n",
       "      <th>item</th>\n",
       "      <th>rating</th>\n",
       "      <th>time</th>\n",
       "    </tr>\n",
       "  </thead>\n",
       "  <tbody>\n",
       "    <tr>\n",
       "      <td>0</td>\n",
       "      <td>1</td>\n",
       "      <td>1</td>\n",
       "      <td>5</td>\n",
       "      <td>874965758</td>\n",
       "    </tr>\n",
       "    <tr>\n",
       "      <td>1</td>\n",
       "      <td>1</td>\n",
       "      <td>2</td>\n",
       "      <td>3</td>\n",
       "      <td>876893171</td>\n",
       "    </tr>\n",
       "    <tr>\n",
       "      <td>2</td>\n",
       "      <td>1</td>\n",
       "      <td>3</td>\n",
       "      <td>4</td>\n",
       "      <td>878542960</td>\n",
       "    </tr>\n",
       "    <tr>\n",
       "      <td>3</td>\n",
       "      <td>1</td>\n",
       "      <td>4</td>\n",
       "      <td>3</td>\n",
       "      <td>876893119</td>\n",
       "    </tr>\n",
       "    <tr>\n",
       "      <td>4</td>\n",
       "      <td>1</td>\n",
       "      <td>5</td>\n",
       "      <td>3</td>\n",
       "      <td>889751712</td>\n",
       "    </tr>\n",
       "    <tr>\n",
       "      <td>...</td>\n",
       "      <td>...</td>\n",
       "      <td>...</td>\n",
       "      <td>...</td>\n",
       "      <td>...</td>\n",
       "    </tr>\n",
       "    <tr>\n",
       "      <td>79995</td>\n",
       "      <td>943</td>\n",
       "      <td>1067</td>\n",
       "      <td>2</td>\n",
       "      <td>875501756</td>\n",
       "    </tr>\n",
       "    <tr>\n",
       "      <td>79996</td>\n",
       "      <td>943</td>\n",
       "      <td>1074</td>\n",
       "      <td>4</td>\n",
       "      <td>888640250</td>\n",
       "    </tr>\n",
       "    <tr>\n",
       "      <td>79997</td>\n",
       "      <td>943</td>\n",
       "      <td>1188</td>\n",
       "      <td>3</td>\n",
       "      <td>888640250</td>\n",
       "    </tr>\n",
       "    <tr>\n",
       "      <td>79998</td>\n",
       "      <td>943</td>\n",
       "      <td>1228</td>\n",
       "      <td>3</td>\n",
       "      <td>888640275</td>\n",
       "    </tr>\n",
       "    <tr>\n",
       "      <td>79999</td>\n",
       "      <td>943</td>\n",
       "      <td>1330</td>\n",
       "      <td>3</td>\n",
       "      <td>888692465</td>\n",
       "    </tr>\n",
       "  </tbody>\n",
       "</table>\n",
       "<p>80000 rows × 4 columns</p>\n",
       "</div>"
      ],
      "text/plain": [
       "       user  item  rating       time\n",
       "0         1     1       5  874965758\n",
       "1         1     2       3  876893171\n",
       "2         1     3       4  878542960\n",
       "3         1     4       3  876893119\n",
       "4         1     5       3  889751712\n",
       "...     ...   ...     ...        ...\n",
       "79995   943  1067       2  875501756\n",
       "79996   943  1074       4  888640250\n",
       "79997   943  1188       3  888640250\n",
       "79998   943  1228       3  888640275\n",
       "79999   943  1330       3  888692465\n",
       "\n",
       "[80000 rows x 4 columns]"
      ]
     },
     "execution_count": 4,
     "metadata": {},
     "output_type": "execute_result"
    }
   ],
   "source": [
    "df1b"
   ]
  },
  {
   "cell_type": "code",
   "execution_count": 5,
   "metadata": {},
   "outputs": [
    {
     "data": {
      "text/plain": [
       "[943, 1682, 5]"
      ]
     },
     "execution_count": 5,
     "metadata": {},
     "output_type": "execute_result"
    }
   ],
   "source": [
    "[max(df['user']),\n",
    "max(df['item']),\n",
    "max(df['rating'])]"
   ]
  },
  {
   "cell_type": "code",
   "execution_count": 6,
   "metadata": {},
   "outputs": [],
   "source": [
    "ui = np.zeros((max(df['user']),max(df['item'])))\n",
    "for i in range(943):\n",
    "    user_i = df1b[df1b.user == i+1]\n",
    "    for j in user_i.item:\n",
    "        ui[i,j-1] = user_i[user_i.item == j].rating.tolist()[0]"
   ]
  },
  {
   "cell_type": "code",
   "execution_count": 7,
   "metadata": {},
   "outputs": [
    {
     "data": {
      "text/plain": [
       "array([[5., 3., 4., ..., 0., 0., 0.],\n",
       "       [4., 0., 0., ..., 0., 0., 0.],\n",
       "       [0., 0., 0., ..., 0., 0., 0.],\n",
       "       ...,\n",
       "       [5., 0., 0., ..., 0., 0., 0.],\n",
       "       [0., 0., 0., ..., 0., 0., 0.],\n",
       "       [0., 5., 0., ..., 0., 0., 0.]])"
      ]
     },
     "execution_count": 7,
     "metadata": {},
     "output_type": "execute_result"
    }
   ],
   "source": [
    "ui"
   ]
  },
  {
   "cell_type": "code",
   "execution_count": 30,
   "metadata": {},
   "outputs": [
    {
     "data": {
      "text/plain": [
       "array([[ 1.        ,  0.05987607,  0.02164287, ...,  0.13392732,\n",
       "         0.08070283,  0.18842177],\n",
       "       [ 0.05987607,  1.        ,  0.03425405, ...,  0.11817385,\n",
       "         0.09806701,  0.06088546],\n",
       "       [ 0.02164287,  0.03425405,  1.        , ...,  0.07122259,\n",
       "         0.05763835, -0.01636086],\n",
       "       ...,\n",
       "       [ 0.13392732,  0.11817385,  0.07122259, ...,  1.        ,\n",
       "         0.08012962,  0.06529963],\n",
       "       [ 0.08070283,  0.09806701,  0.05763835, ...,  0.08012962,\n",
       "         1.        ,  0.12773543],\n",
       "       [ 0.18842177,  0.06088546, -0.01636086, ...,  0.06529963,\n",
       "         0.12773543,  1.        ]])"
      ]
     },
     "execution_count": 30,
     "metadata": {},
     "output_type": "execute_result"
    }
   ],
   "source": [
    "uu = np.corrcoef(ui)\n",
    "uu"
   ]
  },
  {
   "cell_type": "code",
   "execution_count": 21,
   "metadata": {},
   "outputs": [
    {
     "data": {
      "text/html": [
       "<div>\n",
       "<style scoped>\n",
       "    .dataframe tbody tr th:only-of-type {\n",
       "        vertical-align: middle;\n",
       "    }\n",
       "\n",
       "    .dataframe tbody tr th {\n",
       "        vertical-align: top;\n",
       "    }\n",
       "\n",
       "    .dataframe thead th {\n",
       "        text-align: right;\n",
       "    }\n",
       "</style>\n",
       "<table border=\"1\" class=\"dataframe\">\n",
       "  <thead>\n",
       "    <tr style=\"text-align: right;\">\n",
       "      <th></th>\n",
       "      <th>user</th>\n",
       "      <th>item</th>\n",
       "      <th>rating</th>\n",
       "      <th>time</th>\n",
       "    </tr>\n",
       "  </thead>\n",
       "  <tbody>\n",
       "    <tr>\n",
       "      <td>0</td>\n",
       "      <td>1</td>\n",
       "      <td>6</td>\n",
       "      <td>5</td>\n",
       "      <td>887431973</td>\n",
       "    </tr>\n",
       "    <tr>\n",
       "      <td>1</td>\n",
       "      <td>1</td>\n",
       "      <td>10</td>\n",
       "      <td>3</td>\n",
       "      <td>875693118</td>\n",
       "    </tr>\n",
       "    <tr>\n",
       "      <td>2</td>\n",
       "      <td>1</td>\n",
       "      <td>12</td>\n",
       "      <td>5</td>\n",
       "      <td>878542960</td>\n",
       "    </tr>\n",
       "    <tr>\n",
       "      <td>3</td>\n",
       "      <td>1</td>\n",
       "      <td>14</td>\n",
       "      <td>5</td>\n",
       "      <td>874965706</td>\n",
       "    </tr>\n",
       "    <tr>\n",
       "      <td>4</td>\n",
       "      <td>1</td>\n",
       "      <td>17</td>\n",
       "      <td>3</td>\n",
       "      <td>875073198</td>\n",
       "    </tr>\n",
       "    <tr>\n",
       "      <td>...</td>\n",
       "      <td>...</td>\n",
       "      <td>...</td>\n",
       "      <td>...</td>\n",
       "      <td>...</td>\n",
       "    </tr>\n",
       "    <tr>\n",
       "      <td>19995</td>\n",
       "      <td>458</td>\n",
       "      <td>648</td>\n",
       "      <td>4</td>\n",
       "      <td>886395899</td>\n",
       "    </tr>\n",
       "    <tr>\n",
       "      <td>19996</td>\n",
       "      <td>458</td>\n",
       "      <td>1101</td>\n",
       "      <td>4</td>\n",
       "      <td>886397931</td>\n",
       "    </tr>\n",
       "    <tr>\n",
       "      <td>19997</td>\n",
       "      <td>459</td>\n",
       "      <td>934</td>\n",
       "      <td>3</td>\n",
       "      <td>879563639</td>\n",
       "    </tr>\n",
       "    <tr>\n",
       "      <td>19998</td>\n",
       "      <td>460</td>\n",
       "      <td>10</td>\n",
       "      <td>3</td>\n",
       "      <td>882912371</td>\n",
       "    </tr>\n",
       "    <tr>\n",
       "      <td>19999</td>\n",
       "      <td>462</td>\n",
       "      <td>682</td>\n",
       "      <td>5</td>\n",
       "      <td>886365231</td>\n",
       "    </tr>\n",
       "  </tbody>\n",
       "</table>\n",
       "<p>20000 rows × 4 columns</p>\n",
       "</div>"
      ],
      "text/plain": [
       "       user  item  rating       time\n",
       "0         1     6       5  887431973\n",
       "1         1    10       3  875693118\n",
       "2         1    12       5  878542960\n",
       "3         1    14       5  874965706\n",
       "4         1    17       3  875073198\n",
       "...     ...   ...     ...        ...\n",
       "19995   458   648       4  886395899\n",
       "19996   458  1101       4  886397931\n",
       "19997   459   934       3  879563639\n",
       "19998   460    10       3  882912371\n",
       "19999   462   682       5  886365231\n",
       "\n",
       "[20000 rows x 4 columns]"
      ]
     },
     "execution_count": 21,
     "metadata": {},
     "output_type": "execute_result"
    }
   ],
   "source": [
    "df1t"
   ]
  },
  {
   "cell_type": "code",
   "execution_count": 69,
   "metadata": {},
   "outputs": [
    {
     "data": {
      "text/html": [
       "<div>\n",
       "<style scoped>\n",
       "    .dataframe tbody tr th:only-of-type {\n",
       "        vertical-align: middle;\n",
       "    }\n",
       "\n",
       "    .dataframe tbody tr th {\n",
       "        vertical-align: top;\n",
       "    }\n",
       "\n",
       "    .dataframe thead th {\n",
       "        text-align: right;\n",
       "    }\n",
       "</style>\n",
       "<table border=\"1\" class=\"dataframe\">\n",
       "  <thead>\n",
       "    <tr style=\"text-align: right;\">\n",
       "      <th></th>\n",
       "      <th>user</th>\n",
       "      <th>item</th>\n",
       "      <th>rating</th>\n",
       "      <th>time</th>\n",
       "    </tr>\n",
       "  </thead>\n",
       "  <tbody>\n",
       "    <tr>\n",
       "      <td>1460</td>\n",
       "      <td>18</td>\n",
       "      <td>6</td>\n",
       "      <td>5</td>\n",
       "      <td>880130764</td>\n",
       "    </tr>\n",
       "    <tr>\n",
       "      <td>4069</td>\n",
       "      <td>71</td>\n",
       "      <td>6</td>\n",
       "      <td>3</td>\n",
       "      <td>880864124</td>\n",
       "    </tr>\n",
       "    <tr>\n",
       "      <td>4263</td>\n",
       "      <td>76</td>\n",
       "      <td>6</td>\n",
       "      <td>5</td>\n",
       "      <td>875028165</td>\n",
       "    </tr>\n",
       "    <tr>\n",
       "      <td>9397</td>\n",
       "      <td>181</td>\n",
       "      <td>6</td>\n",
       "      <td>1</td>\n",
       "      <td>878962866</td>\n",
       "    </tr>\n",
       "    <tr>\n",
       "      <td>10478</td>\n",
       "      <td>198</td>\n",
       "      <td>6</td>\n",
       "      <td>2</td>\n",
       "      <td>884206270</td>\n",
       "    </tr>\n",
       "    <tr>\n",
       "      <td>34665</td>\n",
       "      <td>486</td>\n",
       "      <td>6</td>\n",
       "      <td>4</td>\n",
       "      <td>879874902</td>\n",
       "    </tr>\n",
       "    <tr>\n",
       "      <td>38638</td>\n",
       "      <td>524</td>\n",
       "      <td>6</td>\n",
       "      <td>5</td>\n",
       "      <td>884627388</td>\n",
       "    </tr>\n",
       "    <tr>\n",
       "      <td>40371</td>\n",
       "      <td>537</td>\n",
       "      <td>6</td>\n",
       "      <td>2</td>\n",
       "      <td>886029806</td>\n",
       "    </tr>\n",
       "    <tr>\n",
       "      <td>43828</td>\n",
       "      <td>568</td>\n",
       "      <td>6</td>\n",
       "      <td>3</td>\n",
       "      <td>877907235</td>\n",
       "    </tr>\n",
       "    <tr>\n",
       "      <td>45286</td>\n",
       "      <td>590</td>\n",
       "      <td>6</td>\n",
       "      <td>5</td>\n",
       "      <td>879439145</td>\n",
       "    </tr>\n",
       "    <tr>\n",
       "      <td>51868</td>\n",
       "      <td>655</td>\n",
       "      <td>6</td>\n",
       "      <td>4</td>\n",
       "      <td>887425812</td>\n",
       "    </tr>\n",
       "    <tr>\n",
       "      <td>53209</td>\n",
       "      <td>662</td>\n",
       "      <td>6</td>\n",
       "      <td>5</td>\n",
       "      <td>880571006</td>\n",
       "    </tr>\n",
       "    <tr>\n",
       "      <td>56765</td>\n",
       "      <td>707</td>\n",
       "      <td>6</td>\n",
       "      <td>3</td>\n",
       "      <td>886285627</td>\n",
       "    </tr>\n",
       "    <tr>\n",
       "      <td>61515</td>\n",
       "      <td>758</td>\n",
       "      <td>6</td>\n",
       "      <td>2</td>\n",
       "      <td>881976919</td>\n",
       "    </tr>\n",
       "    <tr>\n",
       "      <td>62766</td>\n",
       "      <td>773</td>\n",
       "      <td>6</td>\n",
       "      <td>3</td>\n",
       "      <td>888538620</td>\n",
       "    </tr>\n",
       "    <tr>\n",
       "      <td>66274</td>\n",
       "      <td>806</td>\n",
       "      <td>6</td>\n",
       "      <td>2</td>\n",
       "      <td>882385063</td>\n",
       "    </tr>\n",
       "    <tr>\n",
       "      <td>67683</td>\n",
       "      <td>828</td>\n",
       "      <td>6</td>\n",
       "      <td>1</td>\n",
       "      <td>891035614</td>\n",
       "    </tr>\n",
       "    <tr>\n",
       "      <td>71836</td>\n",
       "      <td>870</td>\n",
       "      <td>6</td>\n",
       "      <td>4</td>\n",
       "      <td>875680311</td>\n",
       "    </tr>\n",
       "    <tr>\n",
       "      <td>78190</td>\n",
       "      <td>924</td>\n",
       "      <td>6</td>\n",
       "      <td>4</td>\n",
       "      <td>886759441</td>\n",
       "    </tr>\n",
       "    <tr>\n",
       "      <td>79287</td>\n",
       "      <td>936</td>\n",
       "      <td>6</td>\n",
       "      <td>5</td>\n",
       "      <td>886832636</td>\n",
       "    </tr>\n",
       "  </tbody>\n",
       "</table>\n",
       "</div>"
      ],
      "text/plain": [
       "       user  item  rating       time\n",
       "1460     18     6       5  880130764\n",
       "4069     71     6       3  880864124\n",
       "4263     76     6       5  875028165\n",
       "9397    181     6       1  878962866\n",
       "10478   198     6       2  884206270\n",
       "34665   486     6       4  879874902\n",
       "38638   524     6       5  884627388\n",
       "40371   537     6       2  886029806\n",
       "43828   568     6       3  877907235\n",
       "45286   590     6       5  879439145\n",
       "51868   655     6       4  887425812\n",
       "53209   662     6       5  880571006\n",
       "56765   707     6       3  886285627\n",
       "61515   758     6       2  881976919\n",
       "62766   773     6       3  888538620\n",
       "66274   806     6       2  882385063\n",
       "67683   828     6       1  891035614\n",
       "71836   870     6       4  875680311\n",
       "78190   924     6       4  886759441\n",
       "79287   936     6       5  886832636"
      ]
     },
     "execution_count": 69,
     "metadata": {},
     "output_type": "execute_result"
    }
   ],
   "source": [
    "coradf = df1b[df1b['item'] == 6]\n",
    "coradf"
   ]
  },
  {
   "cell_type": "code",
   "execution_count": 40,
   "metadata": {},
   "outputs": [
    {
     "data": {
      "text/html": [
       "<div>\n",
       "<style scoped>\n",
       "    .dataframe tbody tr th:only-of-type {\n",
       "        vertical-align: middle;\n",
       "    }\n",
       "\n",
       "    .dataframe tbody tr th {\n",
       "        vertical-align: top;\n",
       "    }\n",
       "\n",
       "    .dataframe thead th {\n",
       "        text-align: right;\n",
       "    }\n",
       "</style>\n",
       "<table border=\"1\" class=\"dataframe\">\n",
       "  <thead>\n",
       "    <tr style=\"text-align: right;\">\n",
       "      <th></th>\n",
       "      <th>0</th>\n",
       "    </tr>\n",
       "  </thead>\n",
       "  <tbody>\n",
       "    <tr>\n",
       "      <td>0</td>\n",
       "      <td>1.000000</td>\n",
       "    </tr>\n",
       "    <tr>\n",
       "      <td>1</td>\n",
       "      <td>0.059876</td>\n",
       "    </tr>\n",
       "    <tr>\n",
       "      <td>2</td>\n",
       "      <td>0.021643</td>\n",
       "    </tr>\n",
       "    <tr>\n",
       "      <td>3</td>\n",
       "      <td>-0.002790</td>\n",
       "    </tr>\n",
       "    <tr>\n",
       "      <td>4</td>\n",
       "      <td>0.145655</td>\n",
       "    </tr>\n",
       "    <tr>\n",
       "      <td>...</td>\n",
       "      <td>...</td>\n",
       "    </tr>\n",
       "    <tr>\n",
       "      <td>938</td>\n",
       "      <td>0.053361</td>\n",
       "    </tr>\n",
       "    <tr>\n",
       "      <td>939</td>\n",
       "      <td>0.169154</td>\n",
       "    </tr>\n",
       "    <tr>\n",
       "      <td>940</td>\n",
       "      <td>0.133927</td>\n",
       "    </tr>\n",
       "    <tr>\n",
       "      <td>941</td>\n",
       "      <td>0.080703</td>\n",
       "    </tr>\n",
       "    <tr>\n",
       "      <td>942</td>\n",
       "      <td>0.188422</td>\n",
       "    </tr>\n",
       "  </tbody>\n",
       "</table>\n",
       "<p>943 rows × 1 columns</p>\n",
       "</div>"
      ],
      "text/plain": [
       "            0\n",
       "0    1.000000\n",
       "1    0.059876\n",
       "2    0.021643\n",
       "3   -0.002790\n",
       "4    0.145655\n",
       "..        ...\n",
       "938  0.053361\n",
       "939  0.169154\n",
       "940  0.133927\n",
       "941  0.080703\n",
       "942  0.188422\n",
       "\n",
       "[943 rows x 1 columns]"
      ]
     },
     "execution_count": 40,
     "metadata": {},
     "output_type": "execute_result"
    }
   ],
   "source": [
    "uudf = pd.DataFrame(uu[0])\n",
    "uudf"
   ]
  },
  {
   "cell_type": "code",
   "execution_count": 70,
   "metadata": {},
   "outputs": [],
   "source": [
    "cora = pd.DataFrame.to_numpy(coradf)"
   ]
  },
  {
   "cell_type": "code",
   "execution_count": 132,
   "metadata": {},
   "outputs": [
    {
     "data": {
      "text/plain": [
       "array([ 17,  70,  75, 180, 197, 485, 523, 536, 567, 589, 654, 661, 706,\n",
       "       757, 772, 805, 827, 869, 923, 935], dtype=int64)"
      ]
     },
     "execution_count": 132,
     "metadata": {},
     "output_type": "execute_result"
    }
   ],
   "source": [
    "cora[:,0]-1"
   ]
  },
  {
   "cell_type": "code",
   "execution_count": 72,
   "metadata": {},
   "outputs": [
    {
     "data": {
      "text/plain": [
       "array([0.23314291, 0.11066227, 0.16666486, 0.01806079, 0.19053804,\n",
       "       0.14786297, 0.18217781, 0.23225986, 0.09542636, 0.13384753,\n",
       "       0.20767433, 0.10110861, 0.14545014, 0.20249207, 0.26399841,\n",
       "       0.26148366, 0.0998323 , 0.24886099, 0.16726742, 0.15232833])"
      ]
     },
     "execution_count": 72,
     "metadata": {},
     "output_type": "execute_result"
    }
   ],
   "source": [
    "uu[0,cora[:,0]-1]"
   ]
  },
  {
   "cell_type": "code",
   "execution_count": 135,
   "metadata": {},
   "outputs": [
    {
     "data": {
      "text/plain": [
       "array([[1.80000000e+01, 5.00000000e+00, 2.33142909e-01],\n",
       "       [7.10000000e+01, 3.00000000e+00, 1.10662269e-01],\n",
       "       [7.60000000e+01, 5.00000000e+00, 1.66664865e-01],\n",
       "       [1.81000000e+02, 1.00000000e+00, 1.80607926e-02],\n",
       "       [1.98000000e+02, 2.00000000e+00, 1.90538039e-01],\n",
       "       [4.86000000e+02, 4.00000000e+00, 1.47862966e-01],\n",
       "       [5.24000000e+02, 5.00000000e+00, 1.82177812e-01],\n",
       "       [5.37000000e+02, 2.00000000e+00, 2.32259857e-01],\n",
       "       [5.68000000e+02, 3.00000000e+00, 9.54263580e-02],\n",
       "       [5.90000000e+02, 5.00000000e+00, 1.33847534e-01],\n",
       "       [6.55000000e+02, 4.00000000e+00, 2.07674331e-01],\n",
       "       [6.62000000e+02, 5.00000000e+00, 1.01108609e-01],\n",
       "       [7.07000000e+02, 3.00000000e+00, 1.45450139e-01],\n",
       "       [7.58000000e+02, 2.00000000e+00, 2.02492069e-01],\n",
       "       [7.73000000e+02, 3.00000000e+00, 2.63998408e-01],\n",
       "       [8.06000000e+02, 2.00000000e+00, 2.61483663e-01],\n",
       "       [8.28000000e+02, 1.00000000e+00, 9.98323013e-02],\n",
       "       [8.70000000e+02, 4.00000000e+00, 2.48860989e-01],\n",
       "       [9.24000000e+02, 4.00000000e+00, 1.67267422e-01],\n",
       "       [9.36000000e+02, 5.00000000e+00, 1.52328328e-01]])"
      ]
     },
     "execution_count": 135,
     "metadata": {},
     "output_type": "execute_result"
    }
   ],
   "source": [
    "corasim = np.transpose(np.concatenate(([cora[:,0]],[cora[:,2]],[uu[0,cora[:,0]-1]]),axis = 0))\n",
    "corasim"
   ]
  },
  {
   "cell_type": "code",
   "execution_count": 136,
   "metadata": {},
   "outputs": [
    {
     "data": {
      "text/plain": [
       "(20, 3)"
      ]
     },
     "execution_count": 136,
     "metadata": {},
     "output_type": "execute_result"
    }
   ],
   "source": [
    "np.shape(corasim)"
   ]
  },
  {
   "cell_type": "code",
   "execution_count": 137,
   "metadata": {},
   "outputs": [
    {
     "data": {
      "text/plain": [
       "array([[9.36000000e+02, 5.00000000e+00, 2.63998408e-01],\n",
       "       [9.24000000e+02, 5.00000000e+00, 2.61483663e-01],\n",
       "       [8.70000000e+02, 5.00000000e+00, 2.48860989e-01],\n",
       "       [8.28000000e+02, 5.00000000e+00, 2.33142909e-01],\n",
       "       [8.06000000e+02, 5.00000000e+00, 2.32259857e-01],\n",
       "       [7.73000000e+02, 5.00000000e+00, 2.07674331e-01],\n",
       "       [7.58000000e+02, 4.00000000e+00, 2.02492069e-01],\n",
       "       [7.07000000e+02, 4.00000000e+00, 1.90538039e-01],\n",
       "       [6.62000000e+02, 4.00000000e+00, 1.82177812e-01],\n",
       "       [6.55000000e+02, 4.00000000e+00, 1.67267422e-01],\n",
       "       [5.90000000e+02, 3.00000000e+00, 1.66664865e-01],\n",
       "       [5.68000000e+02, 3.00000000e+00, 1.52328328e-01],\n",
       "       [5.37000000e+02, 3.00000000e+00, 1.47862966e-01],\n",
       "       [5.24000000e+02, 3.00000000e+00, 1.45450139e-01],\n",
       "       [4.86000000e+02, 2.00000000e+00, 1.33847534e-01],\n",
       "       [1.98000000e+02, 2.00000000e+00, 1.10662269e-01],\n",
       "       [1.81000000e+02, 2.00000000e+00, 1.01108609e-01],\n",
       "       [7.60000000e+01, 2.00000000e+00, 9.98323013e-02],\n",
       "       [7.10000000e+01, 1.00000000e+00, 9.54263580e-02],\n",
       "       [1.80000000e+01, 1.00000000e+00, 1.80607926e-02]])"
      ]
     },
     "execution_count": 137,
     "metadata": {},
     "output_type": "execute_result"
    }
   ],
   "source": [
    "corasimsort = np.sort(corasim,axis = 0)\n",
    "corasimsort = corasimsort[::-1]\n",
    "corasimsort"
   ]
  },
  {
   "cell_type": "code",
   "execution_count": 138,
   "metadata": {},
   "outputs": [
    {
     "data": {
      "text/plain": [
       "array([[9.36000000e+02, 5.00000000e+00, 2.63998408e-01],\n",
       "       [9.24000000e+02, 5.00000000e+00, 2.61483663e-01],\n",
       "       [8.70000000e+02, 5.00000000e+00, 2.48860989e-01],\n",
       "       [8.28000000e+02, 5.00000000e+00, 2.33142909e-01],\n",
       "       [8.06000000e+02, 5.00000000e+00, 2.32259857e-01]])"
      ]
     },
     "execution_count": 138,
     "metadata": {},
     "output_type": "execute_result"
    }
   ],
   "source": [
    "corasimsort[:5]"
   ]
  },
  {
   "cell_type": "code",
   "execution_count": 127,
   "metadata": {},
   "outputs": [
    {
     "data": {
      "text/plain": [
       "array([0.26399841, 0.26148366, 0.24886099, 0.23314291, 0.23225986])"
      ]
     },
     "execution_count": 127,
     "metadata": {},
     "output_type": "execute_result"
    }
   ],
   "source": [
    "corasimsort[:5,1]"
   ]
  },
  {
   "cell_type": "code",
   "execution_count": 145,
   "metadata": {},
   "outputs": [
    {
     "data": {
      "text/plain": [
       "0.33333333333333304"
      ]
     },
     "execution_count": 145,
     "metadata": {},
     "output_type": "execute_result"
    }
   ],
   "source": [
    "avg = np.average(corasimsort[:9,1])\n",
    "abs(avg - df1t.rating[0])"
   ]
  },
  {
   "cell_type": "code",
   "execution_count": 147,
   "metadata": {},
   "outputs": [
    {
     "data": {
      "text/plain": [
       "1"
      ]
     },
     "execution_count": 147,
     "metadata": {},
     "output_type": "execute_result"
    }
   ],
   "source": [
    "df1t.user[0]"
   ]
  },
  {
   "cell_type": "code",
   "execution_count": 148,
   "metadata": {},
   "outputs": [
    {
     "data": {
      "text/plain": [
       "0.33333333333333304"
      ]
     },
     "execution_count": 148,
     "metadata": {},
     "output_type": "execute_result"
    }
   ],
   "source": [
    "\n",
    "\n",
    "coradf = df1b[df1b['item'] == df1t.item[0]]\n",
    "cora = pd.DataFrame.to_numpy(coradf)\n",
    "\n",
    "corasim = np.transpose(np.concatenate(([cora[:,0]],[cora[:,2]],[uu[df1t.user[0]-1,cora[:,0]-1]]),axis = 0))\n",
    "\n",
    "corasimsort = np.sort(corasim,axis = 0)\n",
    "corasimsort = corasimsort[::-1]\n",
    "\n",
    "avg = np.average(corasimsort[:9,1])\n",
    "abs(avg - df1t.rating[0])"
   ]
  },
  {
   "cell_type": "code",
   "execution_count": null,
   "metadata": {},
   "outputs": [],
   "source": []
  }
 ],
 "metadata": {
  "kernelspec": {
   "display_name": "Python 3",
   "language": "python",
   "name": "python3"
  },
  "language_info": {
   "codemirror_mode": {
    "name": "ipython",
    "version": 3
   },
   "file_extension": ".py",
   "mimetype": "text/x-python",
   "name": "python",
   "nbconvert_exporter": "python",
   "pygments_lexer": "ipython3",
   "version": "3.6.9"
  }
 },
 "nbformat": 4,
 "nbformat_minor": 2
}
