{
 "cells": [
  {
   "cell_type": "markdown",
   "metadata": {},
   "source": [
    "# RMDS Workshop 3 Code\n",
    "\n",
    "The code below is the code used to walkthrough a basic Customer Lifetime Value modeling process as shown by the slides. At the bottom, there is an additional challenge presented to you to model another transaction dataset."
   ]
  },
  {
   "cell_type": "code",
   "execution_count": 1,
   "metadata": {},
   "outputs": [
    {
     "name": "stdout",
     "output_type": "stream",
     "text": [
      "                  date  id\n",
      "0  2014-03-08 00:00:00   0\n",
      "1  2014-05-21 00:00:00   1\n",
      "2  2014-03-14 00:00:00   2\n",
      "3  2014-04-09 00:00:00   2\n",
      "4  2014-05-21 00:00:00   2\n"
     ]
    }
   ],
   "source": [
    "# Loading Data\n",
    "import lifetimes\n",
    "from lifetimes.datasets import load_transaction_data\n",
    "transaction_data = load_transaction_data()\n",
    "\n",
    "print(transaction_data.head())"
   ]
  },
  {
   "cell_type": "code",
   "execution_count": 2,
   "metadata": {},
   "outputs": [
    {
     "name": "stdout",
     "output_type": "stream",
     "text": [
      "      frequency  recency      T\n",
      "id                             \n",
      "0           0.0      0.0  298.0\n",
      "1           0.0      0.0  224.0\n",
      "2           6.0    142.0  292.0\n",
      "3           0.0      0.0  147.0\n",
      "4           2.0      9.0  183.0\n",
      "...         ...      ...    ...\n",
      "4995        0.0      0.0  336.0\n",
      "4996        4.0     80.0  293.0\n",
      "4997        0.0      0.0  304.0\n",
      "4998        0.0      0.0  306.0\n",
      "4999        0.0      0.0  165.0\n",
      "\n",
      "[5000 rows x 3 columns]\n"
     ]
    }
   ],
   "source": [
    "#Creating an RFM Matrix\n",
    "from lifetimes.utils import summary_data_from_transaction_data\n",
    "\n",
    "rfm_matrix = summary_data_from_transaction_data(transaction_data, 'id', 'date')\n",
    "print(rfm_matrix)"
   ]
  },
  {
   "cell_type": "code",
   "execution_count": 3,
   "metadata": {},
   "outputs": [
    {
     "name": "stdout",
     "output_type": "stream",
     "text": [
      "             frequency  recency      T  monetary_value\n",
      "customer_id                                           \n",
      "1                    2    30.43  38.86           22.35\n",
      "2                    1     1.71  38.86           11.77\n",
      "3                    0     0.00  38.86            0.00\n",
      "4                    0     0.00  38.86            0.00\n",
      "5                    0     0.00  38.86            0.00\n"
     ]
    }
   ],
   "source": [
    "# Switch Datasets to Include Monetary Value\n",
    "from lifetimes.datasets import load_cdnow_summary_data_with_monetary_value\n",
    "rfm_matrix = load_cdnow_summary_data_with_monetary_value()\n",
    "\n",
    "print(rfm_matrix.head())"
   ]
  },
  {
   "cell_type": "code",
   "execution_count": 4,
   "metadata": {},
   "outputs": [
    {
     "name": "stdout",
     "output_type": "stream",
     "text": [
      "<lifetimes.BetaGeoFitter: fitted with 2357 subjects, a: 0.79, alpha: 4.41, b: 2.43, r: 0.24>\n"
     ]
    }
   ],
   "source": [
    "# Fit BG/NBD Model\n",
    "from lifetimes import BetaGeoFitter\n",
    "bgf = BetaGeoFitter(penalizer_coef=0.0)\n",
    "bgf.fit(rfm_matrix['frequency'], rfm_matrix['recency'], rfm_matrix['T'])\n",
    "print(bgf)"
   ]
  },
  {
   "cell_type": "code",
   "execution_count": 5,
   "metadata": {},
   "outputs": [
    {
     "name": "stdout",
     "output_type": "stream",
     "text": [
      "           coef  se(coef)  lower 95% bound  upper 95% bound\n",
      "r      0.242593  0.012557         0.217981         0.267205\n",
      "alpha  4.413532  0.378221         3.672218         5.154846\n",
      "a      0.792886  0.185719         0.428877         1.156895\n",
      "b      2.425752  0.705345         1.043276         3.808229\n"
     ]
    }
   ],
   "source": [
    "print(bgf.summary)"
   ]
  },
  {
   "cell_type": "code",
   "execution_count": 7,
   "metadata": {},
   "outputs": [
    {
     "data": {
      "text/plain": [
       "<matplotlib.axes._subplots.AxesSubplot at 0x1cdf06b3be0>"
      ]
     },
     "execution_count": 7,
     "metadata": {},
     "output_type": "execute_result"
    },
    {
     "data": {
      "image/png": "[encoded data removed]",
      "text/plain": [
       "<Figure size 720x360 with 1 Axes>"
      ]
     },
     "metadata": {
      "needs_background": "light"
     },
     "output_type": "display_data"
    }
   ],
   "source": [
    "# Assess Model Fit\n",
    "\n",
    "from lifetimes.plotting import plot_period_transactions\n",
    "plot_period_transactions(bgf, figsize = (10, 5))"
   ]
  },
  {
   "cell_type": "code",
   "execution_count": 8,
   "metadata": {},
   "outputs": [
    {
     "name": "stdout",
     "output_type": "stream",
     "text": [
      "frequency          2.00\n",
      "recency           14.57\n",
      "T                 38.71\n",
      "monetary_value    32.30\n",
      "Name: 21, dtype: float64\n"
     ]
    }
   ],
   "source": [
    "# Predict Number of Transaction for a Single Customer\n",
    "\n",
    "t = 10 #predict purchases in 10 periods\n",
    "individual = rfm_matrix.iloc[20]\n",
    "\n",
    "print(individual)"
   ]
  },
  {
   "cell_type": "code",
   "execution_count": 9,
   "metadata": {},
   "outputs": [
    {
     "name": "stdout",
     "output_type": "stream",
     "text": [
      "0.20055896982544846\n"
     ]
    }
   ],
   "source": [
    "# Predict Number of Purchases in Next 10 Time Periods\n",
    "\n",
    "prediction = bgf.predict(t, individual['frequency'], individual['recency'], individual['T'])\n",
    "print(prediction)"
   ]
  },
  {
   "cell_type": "code",
   "execution_count": 10,
   "metadata": {},
   "outputs": [
    {
     "data": {
      "text/html": [
       "<div>\n",
       "<style scoped>\n",
       "    .dataframe tbody tr th:only-of-type {\n",
       "        vertical-align: middle;\n",
       "    }\n",
       "\n",
       "    .dataframe tbody tr th {\n",
       "        vertical-align: top;\n",
       "    }\n",
       "\n",
       "    .dataframe thead th {\n",
       "        text-align: right;\n",
       "    }\n",
       "</style>\n",
       "<table border=\"1\" class=\"dataframe\">\n",
       "  <thead>\n",
       "    <tr style=\"text-align: right;\">\n",
       "      <th></th>\n",
       "      <th>monetary_value</th>\n",
       "      <th>frequency</th>\n",
       "    </tr>\n",
       "  </thead>\n",
       "  <tbody>\n",
       "    <tr>\n",
       "      <td>monetary_value</td>\n",
       "      <td>1.000000</td>\n",
       "      <td>0.113884</td>\n",
       "    </tr>\n",
       "    <tr>\n",
       "      <td>frequency</td>\n",
       "      <td>0.113884</td>\n",
       "      <td>1.000000</td>\n",
       "    </tr>\n",
       "  </tbody>\n",
       "</table>\n",
       "</div>"
      ],
      "text/plain": [
       "                monetary_value  frequency\n",
       "monetary_value        1.000000   0.113884\n",
       "frequency             0.113884   1.000000"
      ]
     },
     "execution_count": 10,
     "metadata": {},
     "output_type": "execute_result"
    }
   ],
   "source": [
    "# Checking if Rate and Monetary Value are Independent\n",
    "returning_customers_summary = rfm_matrix[rfm_matrix['frequency']>0]\n",
    "returning_customers_summary[['monetary_value', 'frequency']].corr()"
   ]
  },
  {
   "cell_type": "code",
   "execution_count": 13,
   "metadata": {},
   "outputs": [
    {
     "name": "stdout",
     "output_type": "stream",
     "text": [
      "<lifetimes.GammaGammaFitter: fitted with 946 subjects, p: 6.25, q: 3.74, v: 15.45>\n"
     ]
    }
   ],
   "source": [
    "# Fitting Monetary Value Model\n",
    "from lifetimes import GammaGammaFitter\n",
    "\n",
    "ggf = GammaGammaFitter(penalizer_coef = 0)\n",
    "ggf.fit(returning_customers_summary['frequency'],\n",
    "        returning_customers_summary['monetary_value'])\n",
    "print(ggf)"
   ]
  },
  {
   "cell_type": "code",
   "execution_count": 12,
   "metadata": {},
   "outputs": [
    {
     "name": "stdout",
     "output_type": "stream",
     "text": [
      "customer_id\n",
      "1      140.096218\n",
      "2       18.943466\n",
      "3       38.180575\n",
      "4       38.180575\n",
      "5       38.180575\n",
      "6     1003.868285\n",
      "7       28.109681\n",
      "8       38.180575\n",
      "9      167.418224\n",
      "10      38.180575\n",
      "Name: clv, dtype: float64\n"
     ]
    }
   ],
   "source": [
    "# Predicting Customer Lifetime Value\n",
    "print(ggf.customer_lifetime_value(\n",
    "    bgf, #the model to use to predict the number of future transactions\n",
    "    rfm_matrix['frequency'],\n",
    "    rfm_matrix['recency'],\n",
    "    rfm_matrix['T'],\n",
    "    rfm_matrix['monetary_value'],\n",
    "    time=12, # months\n",
    "    discount_rate=0.01 # monthly discount rate ~ 12.7% annually\n",
    ").head(10))"
   ]
  },
  {
   "cell_type": "markdown",
   "metadata": {},
   "source": [
    "# Additional Challenge\n",
    "\n",
    "Using the transaction dataset found [here](https://archive.ics.uci.edu/ml/datasets/Online+Retail+II), fit a Customer Lifetime Value model using the steps we established and report results in the fashion most interesting to you. Note, some data cleaning will be necessary in order to get the dataset into a workable format for LTV analysis. That's part of the fun / learning too. If you're not confident in your data cleaning ability, I have provided a file 'clean_invoice_data.csv' which allows you to start modeling immediately."
   ]
  },
  {
   "cell_type": "code",
   "execution_count": 48,
   "metadata": {},
   "outputs": [
    {
     "name": "stdout",
     "output_type": "stream",
     "text": [
      "       CustomerId        Date   Amount\n",
      "0         12347.0  2010-10-31   611.53\n",
      "1         12347.0  2010-12-07   711.79\n",
      "2         12347.0  2011-01-26   475.39\n",
      "3         12347.0  2011-04-07   636.25\n",
      "4         12347.0  2011-06-09   382.52\n",
      "...           ...         ...      ...\n",
      "32737     18287.0  2010-09-21   892.60\n",
      "32738     18287.0  2010-11-22   381.50\n",
      "32739     18287.0  2011-05-22   765.28\n",
      "32740     18287.0  2011-10-12  1001.32\n",
      "32741     18287.0  2011-10-28    70.68\n",
      "\n",
      "[32742 rows x 3 columns]\n"
     ]
    }
   ],
   "source": [
    "import pandas as pd\n",
    "\n",
    "invoice_data = pd.read_csv(\"clean_invoice_data.csv\")\n",
    "invoice_data = invoice_data.iloc[:32742,]\n",
    "\n",
    "print(invoice_data)"
   ]
  },
  {
   "cell_type": "code",
   "execution_count": 49,
   "metadata": {},
   "outputs": [
    {
     "name": "stdout",
     "output_type": "stream",
     "text": [
      "            frequency  recency      T  monetary_value\n",
      "CustomerId                                           \n",
      "12347.0           7.0    402.0  404.0      615.714286\n",
      "12348.0           4.0    363.0  438.0      449.310000\n",
      "12349.0           3.0    571.0  589.0     1120.056667\n",
      "12350.0           0.0      0.0  310.0        0.000000\n",
      "12351.0           0.0      0.0  375.0        0.000000\n",
      "...               ...      ...    ...             ...\n",
      "18283.0          18.0    655.0  658.0      142.666667\n",
      "18284.0           0.0      0.0  431.0        0.000000\n",
      "18285.0           0.0      0.0  660.0        0.000000\n",
      "18286.0           1.0    247.0  723.0      833.480000\n",
      "18287.0           5.0    529.0  571.0      622.276000\n",
      "\n",
      "[5837 rows x 4 columns]\n"
     ]
    }
   ],
   "source": [
    "#Creating an RFM Matrix\n",
    "from lifetimes.utils import summary_data_from_transaction_data\n",
    "\n",
    "rfm_matrix = summary_data_from_transaction_data(invoice_data, 'CustomerId', 'Date', 'Amount')\n",
    "print(rfm_matrix)"
   ]
  },
  {
   "cell_type": "code",
   "execution_count": 50,
   "metadata": {},
   "outputs": [
    {
     "name": "stdout",
     "output_type": "stream",
     "text": [
      "<lifetimes.BetaGeoFitter: fitted with 5837 subjects, a: 0.10, alpha: 64.62, b: 2.31, r: 0.67>\n"
     ]
    }
   ],
   "source": [
    "# Fit BG/NBD Model\n",
    "from lifetimes import BetaGeoFitter\n",
    "bgf = BetaGeoFitter(penalizer_coef=0.0)\n",
    "bgf.fit(rfm_matrix['frequency'], rfm_matrix['recency'], rfm_matrix['T'])\n",
    "print(bgf)"
   ]
  },
  {
   "cell_type": "code",
   "execution_count": 51,
   "metadata": {},
   "outputs": [
    {
     "name": "stdout",
     "output_type": "stream",
     "text": [
      "            coef  se(coef)  lower 95% bound  upper 95% bound\n",
      "r       0.673262  0.016150         0.641607         0.704917\n",
      "alpha  64.616519  1.979044        60.737593        68.495446\n",
      "a       0.104430  0.015057         0.074918         0.133941\n",
      "b       2.306403  0.511682         1.303505         3.309300\n"
     ]
    }
   ],
   "source": [
    "print(bgf.summary)"
   ]
  },
  {
   "cell_type": "code",
   "execution_count": 52,
   "metadata": {},
   "outputs": [
    {
     "data": {
      "text/plain": [
       "<matplotlib.axes._subplots.AxesSubplot at 0x1cdf0a81ac8>"
      ]
     },
     "execution_count": 52,
     "metadata": {},
     "output_type": "execute_result"
    },
    {
     "data": {
      "image/png": "[encoded data removed]",
      "text/plain": [
       "<Figure size 720x360 with 1 Axes>"
      ]
     },
     "metadata": {
      "needs_background": "light"
     },
     "output_type": "display_data"
    }
   ],
   "source": [
    "# Assess Model Fit\n",
    "\n",
    "from lifetimes.plotting import plot_period_transactions\n",
    "plot_period_transactions(bgf, figsize = (10, 5))"
   ]
  },
  {
   "cell_type": "code",
   "execution_count": 53,
   "metadata": {},
   "outputs": [
    {
     "name": "stdout",
     "output_type": "stream",
     "text": [
      "frequency           2.00\n",
      "recency           225.00\n",
      "T                 296.00\n",
      "monetary_value    449.41\n",
      "Name: 12372.0, dtype: float64\n"
     ]
    }
   ],
   "source": [
    "# Predict Number of Transaction for a Single Customer\n",
    "\n",
    "t = 10 #predict purchases in 10 periods\n",
    "individual = rfm_matrix.iloc[25]\n",
    "\n",
    "print(individual)"
   ]
  },
  {
   "cell_type": "code",
   "execution_count": 54,
   "metadata": {},
   "outputs": [
    {
     "name": "stdout",
     "output_type": "stream",
     "text": [
      "0.07006500345519666\n"
     ]
    }
   ],
   "source": [
    "# Predict Number of Purchases in Next 10 Time Periods\n",
    "\n",
    "prediction = bgf.predict(t, individual['frequency'], individual['recency'], individual['T'])\n",
    "print(prediction)"
   ]
  },
  {
   "cell_type": "code",
   "execution_count": 55,
   "metadata": {},
   "outputs": [
    {
     "data": {
      "text/html": [
       "<div>\n",
       "<style scoped>\n",
       "    .dataframe tbody tr th:only-of-type {\n",
       "        vertical-align: middle;\n",
       "    }\n",
       "\n",
       "    .dataframe tbody tr th {\n",
       "        vertical-align: top;\n",
       "    }\n",
       "\n",
       "    .dataframe thead th {\n",
       "        text-align: right;\n",
       "    }\n",
       "</style>\n",
       "<table border=\"1\" class=\"dataframe\">\n",
       "  <thead>\n",
       "    <tr style=\"text-align: right;\">\n",
       "      <th></th>\n",
       "      <th>monetary_value</th>\n",
       "      <th>frequency</th>\n",
       "    </tr>\n",
       "  </thead>\n",
       "  <tbody>\n",
       "    <tr>\n",
       "      <td>monetary_value</td>\n",
       "      <td>1.000000</td>\n",
       "      <td>0.176287</td>\n",
       "    </tr>\n",
       "    <tr>\n",
       "      <td>frequency</td>\n",
       "      <td>0.176287</td>\n",
       "      <td>1.000000</td>\n",
       "    </tr>\n",
       "  </tbody>\n",
       "</table>\n",
       "</div>"
      ],
      "text/plain": [
       "                monetary_value  frequency\n",
       "monetary_value        1.000000   0.176287\n",
       "frequency             0.176287   1.000000"
      ]
     },
     "execution_count": 55,
     "metadata": {},
     "output_type": "execute_result"
    }
   ],
   "source": [
    "# Checking if Rate and Monetary Value are Independent\n",
    "returning_customers_summary = rfm_matrix[rfm_matrix['frequency']>0]\n",
    "returning_customers_summary[['monetary_value', 'frequency']].corr()"
   ]
  },
  {
   "cell_type": "code",
   "execution_count": 56,
   "metadata": {},
   "outputs": [
    {
     "name": "stdout",
     "output_type": "stream",
     "text": [
      "<lifetimes.GammaGammaFitter: fitted with 4177 subjects, p: 2.14, q: 3.63, v: 486.51>\n"
     ]
    }
   ],
   "source": [
    "# Fitting Monetary Value Model\n",
    "from lifetimes import GammaGammaFitter\n",
    "\n",
    "ggf = GammaGammaFitter(penalizer_coef = 0)\n",
    "ggf.fit(returning_customers_summary['frequency'],\n",
    "        returning_customers_summary['monetary_value'])\n",
    "print(ggf)"
   ]
  },
  {
   "cell_type": "code",
   "execution_count": 57,
   "metadata": {},
   "outputs": [
    {
     "name": "stdout",
     "output_type": "stream",
     "text": [
      "CustomerId\n",
      "12347.0    3088.220717\n",
      "12348.0    1280.967615\n",
      "12349.0    1645.849300\n",
      "12350.0     233.680691\n",
      "12351.0     199.826514\n",
      "12352.0    1470.750253\n",
      "12353.0     269.489563\n",
      "12354.0     293.411900\n",
      "12355.0     341.280976\n",
      "12356.0    3563.139226\n",
      "Name: clv, dtype: float64\n"
     ]
    }
   ],
   "source": [
    "# Predicting Customer Lifetime Value\n",
    "print(ggf.customer_lifetime_value(\n",
    "    bgf, #the model to use to predict the number of future transactions\n",
    "    rfm_matrix['frequency'],\n",
    "    rfm_matrix['recency'],\n",
    "    rfm_matrix['T'],\n",
    "    rfm_matrix['monetary_value'],\n",
    "    time=12, # months\n",
    "    discount_rate=0.01 # monthly discount rate ~ 12.7% annually\n",
    ").head(10))"
   ]
  },
  {
   "cell_type": "code",
   "execution_count": null,
   "metadata": {},
   "outputs": [],
   "source": []
  }
 ],
 "metadata": {
  "kernelspec": {
   "display_name": "Python 3",
   "language": "python",
   "name": "python3"
  },
  "language_info": {
   "codemirror_mode": {
    "name": "ipython",
    "version": 3
   },
   "file_extension": ".py",
   "mimetype": "text/x-python",
   "name": "python",
   "nbconvert_exporter": "python",
   "pygments_lexer": "ipython3",
   "version": "3.6.9"
  }
 },
 "nbformat": 4,
 "nbformat_minor": 4
}
